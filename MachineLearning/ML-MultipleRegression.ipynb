{
 "cells": [
  {
   "cell_type": "code",
   "execution_count": 1,
   "metadata": {},
   "outputs": [],
   "source": [
    "import pandas as pd\n",
    "from sklearn import linear_model"
   ]
  },
  {
   "cell_type": "markdown",
   "metadata": {},
   "source": [
    "## <font color=lime>Multiple Regression</font>\n",
    "* <font color=pink>Like linear regression, but with more than one independent value</font>\n",
    "* <font color=pink>Try to predict a value based on two or more variables</font>"
   ]
  },
  {
   "cell_type": "code",
   "execution_count": null,
   "metadata": {},
   "outputs": [],
   "source": [
    "cardata = pd.read_csv(\"..\\CSV\\Cars.csv\")\n",
    "cardata.head()"
   ]
  },
  {
   "cell_type": "markdown",
   "metadata": {},
   "source": [
    "### <font color=lime>We can predict the CO2 emission of a car based on:</font>\n",
    "* <font color=pink>Volume - Size of engine&nbsp;&nbsp;(cm3)</font>\n",
    "* <font color=pink>Weight of Car&nbsp;&nbsp;(kg)</font>"
   ]
  },
  {
   "cell_type": "code",
   "execution_count": null,
   "metadata": {},
   "outputs": [],
   "source": [
    "X = cardata[[\"Weight\",\"Volume\"]]  # 2300kg  1300cm3\n",
    "y = cardata[[\"CO2\"]]\n",
    "\n",
    "regr = linear_model.LinearRegression()\n",
    "regr.fit(X, y)\n",
    "predictedCO2 = regr.predict([[3300, 1300]])\n",
    "\n",
    "print(\"Predicted CO2 Level: \", predictedCO2, \"grams\")"
   ]
  },
  {
   "cell_type": "markdown",
   "metadata": {},
   "source": [
    "### <font color=lime>Coefficient</font>\n",
    "* <font color=pink>A factor that describes the relationship with an unknown variable</font>\n",
    "* <font color=pink>if x is a variable, then 2x is x two times. x is the unknown variable, and the number 2 is the coefficient.</font>\n",
    "* <font color=pink>In this case, we can ask for the coefficient value of weight against CO2, and for volume against CO2<br>\n",
    "               The answer(s) we get tells what would happen if we increase, or decrease, one of the independent values.\n",
    "  </font>"
   ]
  },
  {
   "cell_type": "code",
   "execution_count": null,
   "metadata": {},
   "outputs": [],
   "source": [
    "print(regr.coef_)"
   ]
  },
  {
   "cell_type": "markdown",
   "metadata": {},
   "source": [
    "\n",
    "* <font color=pink>The resulted array represents the coefficient values of weight and volume</font>\n",
    "* <font color=pink>These values tell us that if the weight increase by 1kg, the CO2 emission increases by 0.00755095 g.</font>\n",
    "* <font color=pink>if the engine size (Volume) increases by 1 cm3, the CO2 emission increases by 0.00780526 g</font>\n",
    "* <font color=pink>Increase the weight by 1000kg</font>"
   ]
  }
 ],
 "metadata": {
  "interpreter": {
   "hash": "fc83aee89678d9b71393865b73fef42c64e33515d7ab78ef977dcb1be64f829a"
  },
  "kernelspec": {
   "display_name": "Python 3.9.7 64-bit ('mfpp': venv)",
   "name": "python3"
  },
  "language_info": {
   "codemirror_mode": {
    "name": "ipython",
    "version": 3
   },
   "file_extension": ".py",
   "mimetype": "text/x-python",
   "name": "python",
   "nbconvert_exporter": "python",
   "pygments_lexer": "ipython3",
   "version": "3.9.7"
  },
  "orig_nbformat": 4
 },
 "nbformat": 4,
 "nbformat_minor": 2
}
