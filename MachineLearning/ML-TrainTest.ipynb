{
 "cells": [
  {
   "cell_type": "code",
   "execution_count": 1,
   "metadata": {},
   "outputs": [],
   "source": [
    "import numpy as np\n",
    "import matplotlib.pyplot as plt\n",
    "from scipy import stats\n",
    "from sklearn.metrics import r2_score # need to use the r2_score function\n",
    "from numpy.polynomial.polynomial import Polynomial\n",
    "from sklearn.metrics import r2_score"
   ]
  },
  {
   "cell_type": "markdown",
   "metadata": {},
   "source": [
    "## <font color=lime>Train/Test</font>\n",
    "* <font color=pink>Train/Test is a method to measure the accuracy of your model</font>\n",
    "* <font color=pink>You split the the data set into two sets: <font color=lime>Training set and a Testing set</font></font>\n",
    "* <font color=lime>80% for training, and 20% for testing</font>\n",
    "\n",
    "\n",
    "\n"
   ]
  },
  {
   "cell_type": "markdown",
   "metadata": {},
   "source": [
    "### <font color=lime>Data set below illustrates 100 customers in a shop, and their shopping habits</font>\n",
    "* <font color=pink>x axis represents the number of minutes before making a purchase--(minbeforemakingpur)</font>\n",
    "* <font color=pink>y axis represents the amount of money spent on the purchase--(moneyspent)</font>"
   ]
  },
  {
   "cell_type": "code",
   "execution_count": null,
   "metadata": {},
   "outputs": [],
   "source": [
    "np.random.seed(2)\n",
    "minbeforemakingpur = np.random.normal(3, 1, 100)\n",
    "moneyspent = np.random.normal(150, 40, 100) / minbeforemakingpur\n",
    "plt.xlabel(\"Minutes before purchase\")\n",
    "plt.ylabel(\"Money Spent\")\n",
    "plt.scatter(minbeforemakingpur,moneyspent)\n",
    "plt.show()"
   ]
  },
  {
   "cell_type": "markdown",
   "metadata": {},
   "source": [
    "### <font color=lime>Split dataset 80% train 20% test</font>"
   ]
  },
  {
   "cell_type": "markdown",
   "metadata": {},
   "source": [
    "<font color=pink>Display training set</font>"
   ]
  },
  {
   "cell_type": "code",
   "execution_count": null,
   "metadata": {},
   "outputs": [],
   "source": [
    "np.random.seed(2)\n",
    "x_mins_before_pur = np.random.normal(3, 1, 100)\n",
    "y_amt_spent = np.random.normal(150, 40, 100) / x_mins_before_pur\n",
    "\n",
    "TRAIN_mins_before_pur = x_mins_before_pur[:80]\n",
    "TRAIN_amt_spent = y_amt_spent[:80]\n",
    "\n",
    "TEST_mins_before_pur = x_mins_before_pur[80:]\n",
    "TEST_amt_spent = y_amt_spent[80:]\n",
    "\n",
    "plt.xlabel(\"Train Minutes before purchase\")\n",
    "plt.ylabel(\"Train Money Spent\")\n",
    "plt.grid(True)\n",
    "plt.scatter(TRAIN_mins_before_pur, TRAIN_amt_spent)\n",
    "plt.show()"
   ]
  },
  {
   "cell_type": "markdown",
   "metadata": {},
   "source": [
    "### <font color=pink>Display test set</font>"
   ]
  },
  {
   "cell_type": "code",
   "execution_count": null,
   "metadata": {},
   "outputs": [],
   "source": [
    "print(\"Average or mean: \",np.mean(TEST_mins_before_pur),\"Standard Deviation: \",np.std(TEST_mins_before_pur))\n",
    "print(TEST_mins_before_pur)\n",
    "print(TEST_amt_spent)\n",
    "\n",
    "plt.xlabel(\"Test Minutes before purchase\")\n",
    "plt.ylabel(\"Test Money Spent\")\n",
    "plt.grid(True)\n",
    "plt.scatter(TEST_mins_before_pur, TEST_amt_spent)\n",
    "plt.show()"
   ]
  },
  {
   "cell_type": "markdown",
   "metadata": {},
   "source": [
    "### <font color=pink>Fit the data</font>"
   ]
  },
  {
   "cell_type": "code",
   "execution_count": null,
   "metadata": {},
   "outputs": [],
   "source": [
    "np.random.seed(2)\n",
    "x_mins_before_pur = np.random.normal(3, 1, 100)\n",
    "y_amt_spent = np.random.normal(150, 40, 100) / x_mins_before_pur\n",
    "\n",
    "TRAIN_mins_before_pur = x_mins_before_pur[:80]\n",
    "TRAIN_amt_spent = y_amt_spent[:80]\n",
    "\n",
    "TEST_mins_before_pur = x_mins_before_pur[80:]\n",
    "TEST_amt_spent = y_amt_spent[80:]\n",
    "\n",
    "mymodel = Polynomial.fit(TRAIN_mins_before_pur, TRAIN_amt_spent, 4)\n",
    "\n",
    "mylinspace = np.linspace(0,6,100)\n",
    "\n",
    "plt.scatter(x_mins_before_pur, y_amt_spent)\n",
    "plt.plot(mylinspace, mymodel(mylinspace))\n",
    "plt.xlabel(\"X-values\")\n",
    "plt.ylabel(\"Y-values\")\n",
    "plt.grid(True)\n",
    "plt.show()"
   ]
  },
  {
   "cell_type": "code",
   "execution_count": null,
   "metadata": {},
   "outputs": [],
   "source": [
    "np.random.seed(2)\n",
    "x_mins_before_pur = np.random.normal(3, 1, 100)\n",
    "y_amt_spent = np.random.normal(150, 40, 100) / x_mins_before_pur\n",
    "\n",
    "TRAIN_mins_before_pur = x_mins_before_pur[:80]\n",
    "TRAIN_amt_spent = y_amt_spent[:80]\n",
    "\n",
    "TEST_mins_before_pur = x_mins_before_pur[80:]\n",
    "TEST_amt_spent = y_amt_spent[80:]\n",
    "\n",
    "mymodel_train = Polynomial.fit(TRAIN_mins_before_pur, TRAIN_amt_spent, 4)\n",
    "mymodel_test = Polynomial.fit(TEST_mins_before_pur, TEST_amt_spent, 4)\n",
    "\n",
    "r2_Train = r2_score(TRAIN_amt_spent, mymodel_train(TRAIN_mins_before_pur) )\n",
    "r2_Test = r2_score(TEST_amt_spent, mymodel_test(TEST_mins_before_pur))\n",
    "\n",
    "\n",
    "print(\"Training r2 score: \", r2_Train)\n",
    "print(\"Test r2 score: \", r2_Test)\n",
    "\n",
    "print(mymodel(2))\n",
    "print(mymodel_train(2))\n",
    "print(mymodel_test(2))\n"
   ]
  }
 ],
 "metadata": {
  "interpreter": {
   "hash": "fc83aee89678d9b71393865b73fef42c64e33515d7ab78ef977dcb1be64f829a"
  },
  "kernelspec": {
   "display_name": "Python 3.9.7 64-bit ('mfpp': venv)",
   "name": "python3"
  },
  "language_info": {
   "codemirror_mode": {
    "name": "ipython",
    "version": 3
   },
   "file_extension": ".py",
   "mimetype": "text/x-python",
   "name": "python",
   "nbconvert_exporter": "python",
   "pygments_lexer": "ipython3",
   "version": "3.9.7"
  },
  "orig_nbformat": 4
 },
 "nbformat": 4,
 "nbformat_minor": 2
}
