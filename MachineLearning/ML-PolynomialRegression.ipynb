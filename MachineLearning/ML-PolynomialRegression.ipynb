{
 "cells": [
  {
   "cell_type": "code",
   "execution_count": 2,
   "metadata": {},
   "outputs": [],
   "source": [
    "import sys\n",
    "import pandas as pd\n",
    "import numpy as np\n",
    "import matplotlib.pyplot as plt\n",
    "from scipy import stats\n"
   ]
  },
  {
   "cell_type": "markdown",
   "metadata": {},
   "source": [
    "## <font color=lime>Polynomial Regression</font>\n",
    "* <font color=pink>When Linear Regression doesnt work maybe this will</font>\n",
    "* <font color=pink>This is 18 cars passing checkpoint at certain hour of the day</font>"
   ]
  },
  {
   "cell_type": "code",
   "execution_count": null,
   "metadata": {},
   "outputs": [],
   "source": [
    "hourofday = [1,2,3,5,6,7,8,9,10,12,13,14,15,16,18,19,21,22]\n",
    "speed = [100,90,80,60,60,55,60,65,70,70,75,76,78,79,90,99,99,100]\n",
    "plt.scatter(hourofday, speed)\n",
    "plt.show()"
   ]
  },
  {
   "cell_type": "markdown",
   "metadata": {},
   "source": [
    " **<font color=lime>Using np.poly1d and np.polyfit &nbsp;&nbsp; <font color=yellow>Old</font></font>**\n",
    " * <font color=pink>This is the old way it uses poly1d and base numpy polyfit</font>\n",
    " * <font color=pink>Used in older versions, still used for backward compatibility</font> \n"
   ]
  },
  {
   "cell_type": "code",
   "execution_count": null,
   "metadata": {},
   "outputs": [],
   "source": [
    "hourofday = [1,2,3,5,6,7,8,9,10,12,13,14,15,16,18,19,21,22]\n",
    "speed = [100,90,80,60,60,55,60,65,70,70,75,76,78,79,90,99,99,100]\n",
    "\n",
    "x_Badfit = [89,43,36,36,95,10,66,34,38,20,26,29,48,64,6,5,36,66,72,40]\n",
    "y_Badfit = [21,46,3,35,67,95,53,72,58,10,26,34,90,33,38,20,56,2,47,15]\n",
    "\n",
    "mymodel = np.poly1d(np.polyfit(hourofday, speed, 3))\n",
    "#print(x_Badfit[-1:])\n",
    "\n",
    "myline = np.linspace(1, 22, 100)\n",
    "#myline = np.linspace(2, 95, 100)\n",
    "\n",
    "\n",
    "plt.scatter(hourofday, speed)\n",
    "plt.plot(myline, mymodel(myline))\n",
    "plt.show()"
   ]
  },
  {
   "cell_type": "markdown",
   "metadata": {},
   "source": [
    "**<font color=lime>Polynomial and Polynomial.fit &nbsp;&nbsp;<font color=yellow>New</font></font>**\n",
    " * <font color=pink>This uses Polynomial instead of poly1d</font>\n",
    " * <font color=pink>suppose to be more stable</font>"
   ]
  },
  {
   "cell_type": "code",
   "execution_count": null,
   "metadata": {},
   "outputs": [],
   "source": [
    "from numpy.polynomial import Polynomial\n",
    "\n",
    "hourofday = [1,2,3,5,6,7,8,9,10,12,13,14,15,16,18,19,21,22]\n",
    "speed = [100,90,80,60,60,55,60,65,70,70,75,76,78,79,90,99,99,100]\n",
    "\n",
    "x_Badfit = [89,43,36,36,95,10,66,34,38,20,26,29,48,64,6,5,36,66,72,40]\n",
    "y_Badfit = [21,46,3,35,67,95,53,72,58,10,26,34,90,33,38,20,56,2,47,15]\n",
    "\n",
    "mymodel = Polynomial.fit(hourofday,speed,3)\n",
    "\n",
    "myline = np.linspace(1, 22, 100)\n",
    "\n",
    "plt.scatter(hourofday, speed)\n",
    "plt.plot(myline, mymodel(myline))\n",
    "plt.show()"
   ]
  },
  {
   "cell_type": "markdown",
   "metadata": {},
   "source": [
    "## <font color=lime>R SQUARED</font>\n",
    "* <font color=pink>Used to tell if you have good polynomial relations</font>\n",
    "* <font color=pink>When good you can use Polynomial Regression for future predictions</font>\n",
    "* <font color=pink>Uses r2_score from sklearn.metrics</font>"
   ]
  },
  {
   "cell_type": "code",
   "execution_count": null,
   "metadata": {},
   "outputs": [],
   "source": [
    "from sklearn.metrics import r2_score # need to use the r2_score function\n",
    "from numpy.polynomial import Polynomial\n",
    "\n",
    "# Bad Fit\n",
    "xbadfit = np.array([89,43,36,36,95,10,66,34,38,20,26,29,48,64,6,5,36,66,72,40])\n",
    "ybadfit = np.array([21,46,3,35,67,95,53,72,58,10,26,34,90,33,38,20,56,2,47,15])\n",
    "\n",
    "#Good Fit\n",
    "xgoodfit = np.array([1,2,3,5,6,7,8,9,10,12,13,14,15,16,18,19,21,22])\n",
    "ygoodfit = np.array([100,90,80,60,60,55,60,65,70,70,75,76,78,79,90,99,99,100])\n",
    "\n",
    "model = Polynomial.fit(xgoodfit,ygoodfit,3)\n",
    "model_score = r2_score(ygoodfit, model(xgoodfit))\n",
    "\n",
    "badmodel = Polynomial.fit(xbadfit,ybadfit,3)\n",
    "bad_model_score = r2_score(ybadfit, badmodel(xbadfit))\n",
    "\n",
    "print(model_score,\" Using xGood and yGood arrays this IS a good score for Polynomial Regression: \")\n",
    "print(bad_model_score, \" Using xBad and yBad arrays this IS NOT a good score for Polynomial Regression: \")"
   ]
  },
  {
   "cell_type": "markdown",
   "metadata": {},
   "source": [
    "## <font color=lime>Predict the speed of a car passing at 17 P.M</font>\n",
    "* <font color=pink>If good relations exists you can use<br>Polynomial Regression to predict future values</font>\n",
    "* <font color=pink>poly1d and np.polyfit</font>\n",
    "\n"
   ]
  },
  {
   "cell_type": "code",
   "execution_count": null,
   "metadata": {},
   "outputs": [],
   "source": [
    "hourofday = np.array([1,2,3,5,6,7,8,9,10,12,13,14,15,16,18,19,21,22])\n",
    "speedofcar = np.array([100,90,80,60,60,55,60,65,70,70,75,76,78,79,90,99,99,100])\n",
    "\n",
    "mymodel = Polynomial.fit(hourofday, speedofcar, 3)\n",
    "\n",
    "speed = mymodel(17)\n",
    "print(speed)"
   ]
  }
 ],
 "metadata": {
  "interpreter": {
   "hash": "fc83aee89678d9b71393865b73fef42c64e33515d7ab78ef977dcb1be64f829a"
  },
  "kernelspec": {
   "display_name": "Python 3.9.7 64-bit ('mfpp': venv)",
   "name": "python3"
  },
  "language_info": {
   "codemirror_mode": {
    "name": "ipython",
    "version": 3
   },
   "file_extension": ".py",
   "mimetype": "text/x-python",
   "name": "python",
   "nbconvert_exporter": "python",
   "pygments_lexer": "ipython3",
   "version": "3.9.7"
  },
  "orig_nbformat": 4
 },
 "nbformat": 4,
 "nbformat_minor": 2
}
