{
 "cells": [
  {
   "cell_type": "code",
   "execution_count": 1,
   "metadata": {},
   "outputs": [],
   "source": [
    "import sys\n",
    "import pandas as pd\n",
    "import numpy as np\n",
    "import matplotlib.pyplot as plt;\n",
    "from scipy import stats\n"
   ]
  },
  {
   "cell_type": "markdown",
   "metadata": {},
   "source": [
    " <font color=pink>Basic plotting of dots based on car age and speed</font>"
   ]
  },
  {
   "cell_type": "code",
   "execution_count": null,
   "metadata": {},
   "outputs": [],
   "source": [
    "ageofcar = [5,7,8,7,2,17,2,9,4,11,12,9,6] # X AXIS\n",
    "speedofcar = [99,86,87,88,111,86,103,87,94,78,77,85,86] # Y AXIS\n",
    "\n",
    "plt.scatter(ageofcar, speedofcar)\n",
    "plt.show()"
   ]
  },
  {
   "cell_type": "code",
   "execution_count": null,
   "metadata": {},
   "outputs": [],
   "source": [
    "xG = [5,7,8,7,2,17,2,9,4,11,12,9,6]\n",
    "yG = [99,86,87,88,111,86,103,87,94,78,77,85,86]\n",
    "slope_G, intercept_G, r_G, p_G, std_err_G = stats.linregress(xG, yG)\n",
    "\n",
    "# Bad Fit\n",
    "xB = [89,43,36,36,95,10,66,34,38,20,26,29,48,64,6,5,36,66,72,40]\n",
    "yB = [21,46,3,35,67,95,53,72,58,10,26,34,90,33,38,20,56,2,47,15]\n",
    "\n",
    "slope_B, intercept_B, r_B, p_B, std_err_B = stats.linregress(xB, yB)\n",
    "\n",
    "def myfunc(x):\n",
    "  return slope_G * x + intercept_G\n",
    "\n",
    "fitmodel = list(map(myfunc, xG))\n",
    "\n",
    "print(fitmodel)\n",
    "\n",
    "print(f\"Slope: {slope_G}\")\n",
    "print(f\"Intercept: {intercept_G}\")\n",
    "print(f\"STD Error: {std_err_G}\")\n",
    "print(f\"Coeff of determination - r value: {r_G}\")\n",
    "\n",
    "print(f\"Slope: {slope_B}\")\n",
    "print(f\"Intercept: {intercept_B}\")\n",
    "print(f\"STD Error: {std_err_B}\")\n",
    "print(f\"Coeff of determination - r value: {r_B}\")\n",
    "\n"
   ]
  },
  {
   "cell_type": "markdown",
   "metadata": {},
   "source": [
    "## <font color=lime>Linear Regression</font>\n",
    "* <font color=pink>Relationship between the data-points to draw a straight line through all them</font>\n",
    "* <font color=pink>This line can be used to predict future values</font>\n",
    "  "
   ]
  },
  {
   "cell_type": "code",
   "execution_count": null,
   "metadata": {},
   "outputs": [],
   "source": [
    "age = [5,7,8,7,2,17,2,9,4,11,12,9,6]\n",
    "speed = [99,86,87,88,111,86,103,87,94,78,77,85,86]\n",
    "\n",
    "# Bad Fit\n",
    "age_B = [89,43,36,36,95,10,66,34,38,20,26,29,48,64,6,5,36,66,72,40]\n",
    "speed_B = [21,46,3,35,67,95,53,72,58,10,26,34,90,33,38,20,56,2,47,15]\n",
    "\n",
    "# returns some important key values of Linear Regression\n",
    "slope, intercept, r, p, std_err = stats.linregress(age, speed)\n",
    "\n",
    "# uses the slope and intercept values to return a new value\n",
    "# new value represents where on the y-axis the corresponding x value will be placed:\n",
    "def myfunc(x):\n",
    "  return slope * x + intercept\n",
    "\n",
    "# Run each value of the age array through the function\n",
    "# This will result in a new array with new values for the y-axis \n",
    "mymodel = list(map(myfunc, age))\n",
    "# preparing graph\n",
    "plt.scatter(age, speed) # original scatter plot\n",
    "plt.plot(age, mymodel)  # Draw the line of linear regression on the scatter plot\n",
    "plt.show()              # Show the graph"
   ]
  },
  {
   "cell_type": "markdown",
   "metadata": {},
   "source": [
    "## <font color=lime>R for Relationship</font>\n",
    "* <font color=pink>Know how the relationship between the values of the x-axis and the values of the y-axis is</font>\n",
    "* <font color=pink>If there is no relationship the linear regression can not be used to predict anything</font>\n",
    "* <font color=pink>This relationship - the coefficient of correlation - is called r</font>\n",
    "* <font color=pink>r value ranges from -1 to 1, where 0 means no relationship, and 1 (and -1) means 100% related</font>\n",
    "* <font color=pink>negative value is negative regression</font>\n",
    "* <font color=pink>positive value is positive regression</font>"
   ]
  },
  {
   "cell_type": "code",
   "execution_count": null,
   "metadata": {},
   "outputs": [],
   "source": [
    "# Good Fit\n",
    "xGood = [5,7,8,7,2,17,2,9,4,11,12,9,6]\n",
    "yGood = [99,86,87,88,111,86,103,87,94,78,77,85,86]\n",
    "slope_G, intercept_G, r_G, p_G, std_err_G = stats.linregress(xGood, yGood)\n",
    "\n",
    "# Bad Fit\n",
    "xBad = [89,43,36,36,95,10,66,34,38,20,26,29,48,64,6,5,36,66,72,40]\n",
    "yBad = [21,46,3,35,67,95,53,72,58,10,26,34,90,33,38,20,56,2,47,15]\n",
    "slope_B, intercept_B, r_B, p_B, std_err_B = stats.linregress(xBad, yBad)\n",
    "\n",
    "\n",
    "print(\"Using xGood and yGood arrays this IS a good score for Linear Regression: \", r_G)\n",
    "print(\"Using xBad and yBad arrays this IS NOT a good score for Linear Regression: \", r_B)\n"
   ]
  },
  {
   "cell_type": "markdown",
   "metadata": {},
   "source": [
    "## <font color=lime>Predict the speed of a 10 yrs old car with the good relationship array</font>"
   ]
  },
  {
   "cell_type": "code",
   "execution_count": null,
   "metadata": {},
   "outputs": [],
   "source": [
    "\n",
    "age = [5,7,8,7,2,17,2,9,4,11,12,9,6]\n",
    "speed = [99,86,87,88,111,86,103,87,94,78,77,85,86]\n",
    "\n",
    "slope, intercept, r, p, std_err = stats.linregress(age, speed)\n",
    "\n",
    "def myfunc(x):\n",
    "  return slope * x + intercept\n",
    "\n",
    "speed = myfunc(10)   # put 10 for 10yrs old car\n",
    "\n",
    "print(speed)"
   ]
  }
 ],
 "metadata": {
  "interpreter": {
   "hash": "fc83aee89678d9b71393865b73fef42c64e33515d7ab78ef977dcb1be64f829a"
  },
  "kernelspec": {
   "display_name": "Python 3.9.7 64-bit ('mfpp': venv)",
   "name": "python3"
  },
  "language_info": {
   "codemirror_mode": {
    "name": "ipython",
    "version": 3
   },
   "file_extension": ".py",
   "mimetype": "text/x-python",
   "name": "python",
   "nbconvert_exporter": "python",
   "pygments_lexer": "ipython3",
   "version": "3.9.7"
  },
  "orig_nbformat": 4
 },
 "nbformat": 4,
 "nbformat_minor": 2
}
