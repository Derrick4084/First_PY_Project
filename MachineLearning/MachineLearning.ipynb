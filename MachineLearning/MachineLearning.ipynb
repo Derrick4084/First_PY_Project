{
 "cells": [
  {
   "cell_type": "code",
   "execution_count": 2,
   "metadata": {},
   "outputs": [],
   "source": [
    "import sys\n",
    "import pandas as pd\n",
    "import numpy as np\n",
    "import matplotlib.pyplot as plt;\n",
    "from scipy import stats"
   ]
  },
  {
   "cell_type": "code",
   "execution_count": null,
   "metadata": {},
   "outputs": [],
   "source": [
    "# mean(average), median(middle), mode(num that appears the most) functions\n",
    "# std(standard deviation)---> how spread out the values are from the mean (average) value\n",
    "\n",
    "speed = [99,86,87,88,111,86,103,87,94,78,77,85,86]\n",
    "e =  np.mean(speed)\n",
    "f =  np.median(speed)\n",
    "g =  stats.mode(speed)\n",
    "h = np.std(speed)\n",
    "j = np.var(speed)\n",
    "\n",
    "print(f\"mean(average): {e}\")\n",
    "print(f\"median: {f}\")\n",
    "print(f\"mode: {g}\")\n",
    "print(\"std(standard deviation): \", h)\n",
    "print(\"variance: \", j)"
   ]
  },
  {
   "cell_type": "code",
   "execution_count": null,
   "metadata": {},
   "outputs": [],
   "source": [
    "#Percentile---> value that a given percent of the values are lower than.\n",
    "ages = [5,31,43,48,50,41,7,11,15,39,80,82,32,2,8,6,25,36,27,61,31]\n",
    "a = np.percentile(ages, 75)\n",
    "b = np.percentile(ages, 90)\n",
    "print(\"75% of the people are less than age: \", a)\n",
    "print(\"90% of the people are less than age: \", b)"
   ]
  },
  {
   "cell_type": "code",
   "execution_count": null,
   "metadata": {},
   "outputs": [],
   "source": [
    "# random array, of a given size, and between two given values\n",
    "# plot array on a histogram \n",
    "x = np.random.uniform(0.0, 5.0, 100000)\n",
    "plt.hist(x, 100)  # bars to spread across\n",
    "plt.show()"
   ]
  },
  {
   "cell_type": "code",
   "execution_count": null,
   "metadata": {},
   "outputs": [],
   "source": [
    "# Normal Data Distribution, or the Gaussian data distribution aka bell curve\n",
    "x = np.random.normal(5.0, 1.0, 100000) \n",
    "# The mean value is 5.0, and the standard deviation is 1.0\n",
    "# rarely further away than 1.0 from the mean\n",
    "# Meaning that the values should be concentrated around 5.0\n",
    "# The histogram shows most values are between 4.0 and 6.0, with a top at approximately 5.0\n",
    "plt.hist(x, 100)\n",
    "plt.show()"
   ]
  },
  {
   "cell_type": "code",
   "execution_count": null,
   "metadata": {},
   "outputs": [],
   "source": [
    "# Scatter Plot\n",
    "carage = [5,7,8,7,2,17,2,9,4,11,12,9,6] \n",
    "carspeed = [99,86,87,88,111,86,103,87,94,78,77,85,86]\n",
    "\n",
    "plt.scatter(carage, carspeed) # carage = x axis, carspeed = y axis\n",
    "plt.show()"
   ]
  },
  {
   "cell_type": "code",
   "execution_count": null,
   "metadata": {},
   "outputs": [],
   "source": [
    "# Random Data Distributions\n",
    "x = np.random.normal(5.0, 1.0, 1000)\n",
    "y = np.random.normal(10.0, 2.0, 1000)\n",
    "\n",
    "# The dots will be concentrated around the value 5 on the x-axis, and 10 on the y-axis\n",
    "# the spread is wider on the y-axis than on the x-axis\n",
    "plt.scatter(x, y)\n",
    "plt.show()"
   ]
  }
 ],
 "metadata": {
  "interpreter": {
   "hash": "fc83aee89678d9b71393865b73fef42c64e33515d7ab78ef977dcb1be64f829a"
  },
  "kernelspec": {
   "display_name": "Python 3.9.7 64-bit ('mfpp': venv)",
   "name": "python3"
  },
  "language_info": {
   "codemirror_mode": {
    "name": "ipython",
    "version": 3
   },
   "file_extension": ".py",
   "mimetype": "text/x-python",
   "name": "python",
   "nbconvert_exporter": "python",
   "pygments_lexer": "ipython3",
   "version": "3.9.7"
  },
  "orig_nbformat": 4
 },
 "nbformat": 4,
 "nbformat_minor": 2
}
