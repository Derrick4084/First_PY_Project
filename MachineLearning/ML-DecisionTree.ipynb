{
 "cells": [
  {
   "cell_type": "code",
   "execution_count": 1,
   "metadata": {},
   "outputs": [],
   "source": [
    "import pandas as pd\n",
    "from sklearn import tree\n",
    "import pydotplus\n",
    "from sklearn.tree import DecisionTreeClassifier\n",
    "import matplotlib.pyplot as plt\n",
    "import matplotlib.image as pltimg\n",
    "import graphviz\n"
   ]
  },
  {
   "cell_type": "code",
   "execution_count": null,
   "metadata": {},
   "outputs": [],
   "source": [
    "comedyshowdata = pd.read_csv(\"..\\CSV\\Shows.csv\")\n",
    "\n",
    "print(comedyshowdata)"
   ]
  },
  {
   "cell_type": "code",
   "execution_count": null,
   "metadata": {},
   "outputs": [],
   "source": [
    "d = {\"UK\": 0, \"USA\": 1, \"N\": 2}\n",
    "comedyshowdata[\"Nationality\"] = comedyshowdata[\"Nationality\"].map(d)\n",
    "d = {\"YES\": 1, \"NO\": 0}\n",
    "comedyshowdata[\"Go\"] = comedyshowdata[\"Go\"].map(d)\n",
    "\n",
    "print(comedyshowdata)"
   ]
  },
  {
   "cell_type": "code",
   "execution_count": null,
   "metadata": {},
   "outputs": [],
   "source": [
    "features = [\"Age\", \"Experience\", \"Rank\", \"Nationality\"]\n",
    "\n",
    "X = comedyshowdata[features]\n",
    "y = comedyshowdata['Go']\n",
    "\n",
    "print(X)\n",
    "print(y)"
   ]
  },
  {
   "cell_type": "code",
   "execution_count": null,
   "metadata": {},
   "outputs": [],
   "source": [
    "dtree = DecisionTreeClassifier()\n",
    "dtree = dtree.fit(X, y)\n",
    "data = tree.export_graphviz(dtree, out_file=None, feature_names=features)\n",
    "graph = pydotplus.graph_from_dot_data(data)\n",
    "graph.write_png('mydecisiontree.png')\n",
    "\n",
    "img=pltimg.imread('mydecisiontree.png')\n",
    "imgplot = plt.imshow(img)\n",
    "plt.show()"
   ]
  }
 ],
 "metadata": {
  "interpreter": {
   "hash": "fc83aee89678d9b71393865b73fef42c64e33515d7ab78ef977dcb1be64f829a"
  },
  "kernelspec": {
   "display_name": "Python 3.9.7 64-bit ('mfpp': venv)",
   "name": "python3"
  },
  "language_info": {
   "codemirror_mode": {
    "name": "ipython",
    "version": 3
   },
   "file_extension": ".py",
   "mimetype": "text/x-python",
   "name": "python",
   "nbconvert_exporter": "python",
   "pygments_lexer": "ipython3",
   "version": "3.9.7"
  },
  "orig_nbformat": 4
 },
 "nbformat": 4,
 "nbformat_minor": 2
}
