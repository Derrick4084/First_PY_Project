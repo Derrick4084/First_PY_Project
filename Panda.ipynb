{
 "cells": [
  {
   "cell_type": "code",
   "execution_count": 1,
   "metadata": {},
   "outputs": [],
   "source": [
    "import sys\n",
    "import pandas as pd\n",
    "import numpy as np\n",
    "import matplotlib.pyplot as plt"
   ]
  },
  {
   "cell_type": "code",
   "execution_count": null,
   "metadata": {},
   "outputs": [],
   "source": [
    "p = np.linspace(0,20,100)\n",
    "plt.plot(p,np.sin(15*p))\n",
    "plt.plot()"
   ]
  },
  {
   "cell_type": "code",
   "execution_count": null,
   "metadata": {},
   "outputs": [],
   "source": [
    "p"
   ]
  },
  {
   "cell_type": "code",
   "execution_count": null,
   "metadata": {},
   "outputs": [],
   "source": [
    "# return array with index numbers\n",
    "data = [1,2,3,4]\n",
    "s1 = pd.Series(data)\n",
    "print(s1)\n",
    "print(s1[2])"
   ]
  },
  {
   "cell_type": "code",
   "execution_count": 5,
   "metadata": {},
   "outputs": [],
   "source": [
    "customer = pd.read_csv(\"CSV\\Employees.csv\")"
   ]
  },
  {
   "cell_type": "code",
   "execution_count": null,
   "metadata": {},
   "outputs": [],
   "source": [
    "print(customer.shape)\n",
    "print(customer.info())\n",
    "customer.head(21)  # () only shows first five rows   tail() last five rows"
   ]
  },
  {
   "cell_type": "code",
   "execution_count": null,
   "metadata": {},
   "outputs": [],
   "source": [
    "customer.iloc[2:7,1:4] # filter certain rows and colums rows on left of comma cols on right"
   ]
  },
  {
   "cell_type": "code",
   "execution_count": null,
   "metadata": {},
   "outputs": [],
   "source": [
    "B_Grade = customer[customer[\"EmpGrade\"] == \"B\"]\n",
    "B_Grade.head()"
   ]
  },
  {
   "cell_type": "code",
   "execution_count": null,
   "metadata": {},
   "outputs": [],
   "source": [
    "import pandas as pd\n",
    "import pyodbc\n",
    "cnxn_con_str = (\"Driver={SQL Server Native Client 11.0};\" \n",
    "                \"Server=.;\"\n",
    "                \"Database=AdventureWorksDW2012;\"\n",
    "                \"Uid=sa;\"\n",
    "                \"PWD=*******;\") \n",
    "cnxn = pyodbc.connect(cnxn_con_str)\n",
    "df = pd.read_sql_query(\"select SalesOrderNumber, Sum(OrderQuantity) as TotalItemsPerOrder,\"\n",
    "                        \"Sum(SalesAmount) as TotalSalesAmtPerOrder, FORMAT(OrderDate,'yyyy-MM-dd') \" \n",
    "                        \"as OrderDate,FirstName,LastName,EmailAddress,DateFirstPurchase from \" \n",
    "                        \"dbo.FactInternetSales FI Left Join DimCustomer DC on FI.CustomerKey = \" \n",
    "                        \"DC.CustomerKey Group by SalesOrderNumber, OrderDate, FirstName, \" \n",
    "                        \"LastName, EmailAddress, DateFirstPurchase Order by SalesOrderNumber Desc\", cnxn)\n",
    "print(df.shape)\n",
    "print(df.head())\n",
    "\n",
    "total_all_sales = round(np.sum(df[\"TotalSalesAmtPerOrder\"]),2)\n",
    "\n",
    "print(f\"Total of all sales: {total_all_sales}\")\n",
    "print(\"Total of all sales: %s\" %(total_all_sales))"
   ]
  }
 ],
 "metadata": {
  "interpreter": {
   "hash": "fc83aee89678d9b71393865b73fef42c64e33515d7ab78ef977dcb1be64f829a"
  },
  "kernelspec": {
   "display_name": "Python 3.9.7 64-bit ('mfpp': venv)",
   "name": "python3"
  },
  "language_info": {
   "codemirror_mode": {
    "name": "ipython",
    "version": 3
   },
   "file_extension": ".py",
   "mimetype": "text/x-python",
   "name": "python",
   "nbconvert_exporter": "python",
   "pygments_lexer": "ipython3",
   "version": "3.9.7"
  },
  "orig_nbformat": 4
 },
 "nbformat": 4,
 "nbformat_minor": 2
}
