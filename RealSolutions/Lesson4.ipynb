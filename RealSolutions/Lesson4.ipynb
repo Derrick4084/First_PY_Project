{
 "cells": [
  {
   "cell_type": "markdown",
   "metadata": {},
   "source": [
    "## <font color=lime>Dynamic Programming - Longest Common Subsequence</font>"
   ]
  },
  {
   "cell_type": "code",
   "execution_count": 2,
   "metadata": {},
   "outputs": [],
   "source": [
    "T0 = { 'input':{'seq1':'seredipitous',\n",
    "                'seq2':'precipitation'},\n",
    "                'output': 7 }\n",
    "\n",
    "T1 = { 'input':{'seq1':[1,3,5,6,7,2,5,2,3],\n",
    "                'seq2':[6,2,4,7,1,5,6,2,3]}, \n",
    "                'output': 5 }\n",
    "\n",
    "T2 = { 'input':{'seq1':'longest',\n",
    "                'seq2':'stone'}, \n",
    "                'output': 3 }\n",
    "\n",
    "T3 = { 'input':{'seq1':'asdfwevad',\n",
    "                'seq2':'opkpoiklklj'}, \n",
    "                'output': 0 }\n",
    "\n",
    "T4 = { 'input':{'seq1':'dense',\n",
    "                'seq2':'condensed'}, \n",
    "                'output': 5 }\n",
    "\n",
    "T5 = { 'input':{'seq1':'',\n",
    "                'seq2':'opkpoiklklj'}, \n",
    "                'output': 0 }\n",
    "\n",
    "T6 = { 'input':{'seq1':'',\n",
    "                'seq2':''}, \n",
    "                'output': 0 }\n",
    "\n",
    "T7 = { 'input':{'seq1':'abbcdef',\n",
    "                'seq2':'badcfe'}, \n",
    "                'output': 3 }\n",
    "\n",
    "lcs_tests = [T0,T1,T2,T3,T4,T5,T6,T7]"
   ]
  },
  {
   "cell_type": "code",
   "execution_count": 3,
   "metadata": {},
   "outputs": [],
   "source": [
    "def lcs_recursion(seq1, seq2, idx1=0, idx2=0):\n",
    "\n",
    "    if len(seq1)==idx1 or len(seq2)==idx2:\n",
    "      return 0\n",
    "    elif seq1[idx1] == seq2[idx2]:\n",
    "      return 1 + lcs_recursion(seq1,seq2,idx1+1,idx2+1)\n",
    "    else:\n",
    "      option1 = lcs_recursion(seq1,seq2, idx1+1, idx2)\n",
    "      option2 = lcs_recursion(seq1,seq2,idx1, idx2+1) \n",
    "      return max(option1,option2) \n"
   ]
  },
  {
   "cell_type": "markdown",
   "metadata": {},
   "source": [
    "## <font color=lime>Memoization</font>\n",
    "*  <font color=pink>keep dictionary so you wont repeat a recursion</font>"
   ]
  },
  {
   "cell_type": "code",
   "execution_count": 4,
   "metadata": {},
   "outputs": [],
   "source": [
    "def lcs_memo(seq1, seq2):\n",
    "    \n",
    "    memo = {}\n",
    "    def recurse(idx1=0,idx2=0):\n",
    "        key = (idx1,idx2)\n",
    "        #print(key)\n",
    "        \n",
    "        if key in memo:\n",
    "            print(\"key in memo\",key,\"memo[key] value:\", memo[key])\n",
    "            return memo[key]\n",
    "        elif len(seq1)==idx1 or len(seq2)==idx2:\n",
    "            memo[key] = 0\n",
    "            #print(memo[key])\n",
    "        elif seq1[idx1] == seq2[idx2]:\n",
    "            memo[key] = 1 + recurse(idx1+1,idx2+1)\n",
    "            #print(memo[key])\n",
    "            #print(1 + recurse(idx1+1,idx2+1),recurse(idx1+1,idx2+1))\n",
    "        else:\n",
    "            memo[key] = max(recurse(idx1+1, idx2), recurse(idx1, idx2+1))\n",
    "            #print(memo)\n",
    "        print(memo)\n",
    "        return memo[key]\n",
    "    return recurse(0, 0)"
   ]
  },
  {
   "cell_type": "code",
   "execution_count": null,
   "metadata": {},
   "outputs": [],
   "source": [
    "T7"
   ]
  },
  {
   "cell_type": "code",
   "execution_count": null,
   "metadata": {},
   "outputs": [],
   "source": [
    "lcs_memo(T7['input']['seq1'],T7['input']['seq2'])"
   ]
  },
  {
   "cell_type": "markdown",
   "metadata": {},
   "source": [
    "## <font color=lime>Dynamic Programming</font>\n",
    "*  <font color=pink>uses a table as a matrix</font>\n",
    "*  <font color=pink>even more efficient than Memoization</font>"
   ]
  },
  {
   "cell_type": "code",
   "execution_count": null,
   "metadata": {},
   "outputs": [],
   "source": [
    "# how to create a table of zeros\n",
    "\n",
    "n1,n2 = 5,7\n",
    "[0 for _ in range(n1)] "
   ]
  },
  {
   "cell_type": "code",
   "execution_count": null,
   "metadata": {},
   "outputs": [],
   "source": [
    "[[0 for _ in range(n2)] for _ in range(n1)] "
   ]
  },
  {
   "cell_type": "code",
   "execution_count": null,
   "metadata": {},
   "outputs": [],
   "source": [
    "def lcs_dp(seq1,seq2):\n",
    "    n1 = len(seq1)\n",
    "    n2 = len(seq2)\n",
    "    table = [[0 for x in range(n2+1)] for x in range(n1+1)]\n",
    "\n",
    "    for i in range(n1):\n",
    "        for j in range(n2):\n",
    "            if seq1[i] == seq2[j]:\n",
    "                table[i+1][j+1] = 1 + table[i][j]\n",
    "            else:\n",
    "                table[i+1][j+1] = max(table[i][j+1],table[i+1][j])\n",
    "    return table[-1][-1]\n",
    "\n",
    "     "
   ]
  },
  {
   "cell_type": "code",
   "execution_count": null,
   "metadata": {},
   "outputs": [],
   "source": [
    "lcs_dp(T0['input']['seq1'],T0['input']['seq2'])"
   ]
  }
 ],
 "metadata": {
  "interpreter": {
   "hash": "fc83aee89678d9b71393865b73fef42c64e33515d7ab78ef977dcb1be64f829a"
  },
  "kernelspec": {
   "display_name": "Python 3.9.7 64-bit ('mfpp': venv)",
   "name": "python3"
  },
  "language_info": {
   "codemirror_mode": {
    "name": "ipython",
    "version": 3
   },
   "file_extension": ".py",
   "mimetype": "text/x-python",
   "name": "python",
   "nbconvert_exporter": "python",
   "pygments_lexer": "ipython3",
   "version": "3.9.7"
  },
  "orig_nbformat": 4
 },
 "nbformat": 4,
 "nbformat_minor": 2
}
