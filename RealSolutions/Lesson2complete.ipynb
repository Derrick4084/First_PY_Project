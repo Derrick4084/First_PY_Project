{
 "cells": [
  {
   "cell_type": "code",
   "execution_count": 1,
   "metadata": {},
   "outputs": [],
   "source": [
    "class User:\n",
    "    def __init__(self,username,name,email):\n",
    "        self.username = username\n",
    "        self.name = name\n",
    "        self.email = email\n",
    "        print(\"User created successfully welcome {}\".format(self.name))\n",
    "\n",
    "    def introduce_yourself(self, guestname):\n",
    "        print(\"Hi {}, I am {}, I can be reached at {}\".format(guestname,self.name,self.email))\n",
    "\n",
    "    def __repr__(self) -> str:\n",
    "        return \"User(username='{}', name='{}', email='{}')\".format(self.username,self.name,self.email)\n",
    "\n",
    "    def __str__(self) -> str:\n",
    "        return self.__repr__()"
   ]
  },
  {
   "cell_type": "code",
   "execution_count": null,
   "metadata": {},
   "outputs": [],
   "source": [
    "derrick = User(\"dhen35\",\"Derrick\",\"dhen35@comcast.net\")\n",
    "zayna = User(\"zayh27\",\"Zayna\",\"zay123@hotmail.com\")\n",
    "denise = User(\"denise53\",\"Denise\",\"denise@gmail.com\")\n",
    "pernell = User(\"Pman32\",\"Pernell\",\"penuckle@google.net\")\n",
    "jackie = User(\"Jaq44\",\"Jaqueline\",\"jackie.henry@comcast.net\")\n",
    "bill = User(\"billp\",\"Bill\",\"billp@comcast.net\")\n",
    "eddy = User(\"eddyv\",\"Eddy\",\"eddyv@hotmail.com\")\n",
    "asit = User(\"asitj\",\"Asit\",\"asitj@gmail.com\")\n",
    "larry = User(\"larryu\",\"Larry\",\"larryu@google.net\")\n",
    "chris = User(\"chrisg\",\"Chris\",\"chrisg@comcast.net\")\n",
    "quentin = User(\"uncleQ\",\"Quentin\",\"uncleQ@hotmail.com\")"
   ]
  },
  {
   "cell_type": "code",
   "execution_count": 3,
   "metadata": {},
   "outputs": [],
   "source": [
    "class BSTNode():\n",
    "    def __init__(self, key, value=None):\n",
    "        self.key = key\n",
    "        self.value = value\n",
    "        self.left = None\n",
    "        self.right = None\n",
    "        self.root = None\n",
    "        \n",
    "    def __repr__(self):\n",
    "        return \"({},{})\".format(self.key, self.value)\n",
    "\n",
    "    def __str__(self) -> str:\n",
    "        return self.__repr__()"
   ]
  },
  {
   "cell_type": "code",
   "execution_count": 4,
   "metadata": {},
   "outputs": [],
   "source": [
    "bstAsit = BSTNode(asit.name, asit)\n",
    "bstBill = BSTNode(bill.name, bill)\n",
    "bstChris = BSTNode(chris.name, chris)\n",
    "bstDenise = BSTNode(denise.name, denise)\n",
    "bstDerrick = BSTNode(derrick.name, derrick)\n",
    "bstEddy = BSTNode(eddy.name, eddy)\n",
    "bstJackie = BSTNode(jackie.name, jackie)\n",
    "bstLarry = BSTNode(larry.name, larry)\n",
    "bstPernell = BSTNode(pernell.name, pernell)\n",
    "bstQuentin = BSTNode(quentin.name, quentin)\n",
    "bstZayna = BSTNode(zayna.name, zayna)"
   ]
  },
  {
   "cell_type": "code",
   "execution_count": 28,
   "metadata": {},
   "outputs": [],
   "source": [
    "class TreeMap():\n",
    "\n",
    "    def __init__(self):\n",
    "        self.root = None\n",
    "        self.left = None\n",
    "        self.right = None\n",
    "\n",
    "    def find(self, node, key):\n",
    "        if node is None:\n",
    "            return None\n",
    "        if key == node.key:\n",
    "            return node\n",
    "        if key < node.key:\n",
    "            return self.find(node.left, key)\n",
    "        else:\n",
    "            return self.find(node.right,key)\n",
    "\n",
    "    def insert(self,node, key, value):\n",
    "        if node is None:\n",
    "            node = BSTNode(key, value)\n",
    "        elif key < node.key:\n",
    "            node.left = self.insert(node.left ,key , value)\n",
    "            node.left.parent = node\n",
    "        elif key > node.key:\n",
    "            node.right = self.insert(node.right ,key , value)\n",
    "            node.right.parent = node\n",
    "        return node\n",
    "\n",
    "    def update(self,node,key,value):\n",
    "        target = self.find(node,key)\n",
    "        if target is not None:\n",
    "           target.value = value \n",
    "\n",
    "    def display_keys(self, node,space =\"\\t\",level=0):\n",
    "        if node is None:\n",
    "            print(space * level)\n",
    "            return\n",
    "        if node.left is None and node.right is None:\n",
    "            print(space * level + str(node.key))\n",
    "            return\n",
    "        self.display_keys(node.right,space,level+1)\n",
    "        print(space * level + str(node.key))\n",
    "        self.display_keys(node.left,space,level+1)\n",
    "\n",
    "    def list_all_nodes(self,node):\n",
    "        if node is None:\n",
    "            return []\n",
    "        return self.list_all_nodes(node.left) + [(node.key, node.value)] + self.list_all_nodes(node.right)\n",
    "\n",
    "    def make_balanced_bst(self, data, lo=0, hi=None, parent=None):\n",
    "        if hi is None:\n",
    "            hi = len(data)-1\n",
    "        if lo > hi:\n",
    "            return None\n",
    "        mid = (lo + hi) // 2\n",
    "        key,value = data[mid]    \n",
    "        root = BSTNode(key,value)\n",
    "        root.parent = parent\n",
    "        root.left = self.make_balanced_bst(data, lo, mid-1, root)\n",
    "        root.right = self.make_balanced_bst(data, mid+1, hi, root)\n",
    "        return root\n",
    "\n",
    "    def balance_bst(self, node):\n",
    "        return self.make_balanced_bst(self.list_all_nodes(node))\n",
    "\n",
    "    def tree_size(self, node):\n",
    "        if node is None:\n",
    "            return 0\n",
    "        return 1 + self.tree_size(node.left) + self.tree_size(node.right)\n",
    "\n",
    "    def __setitem__(self, key, value):\n",
    "        node = self.find(self.root, key)\n",
    "        if not node:\n",
    "            self.root = self.insert(self.root, key, value)\n",
    "            self.root = self.balance_bst(self.root)\n",
    "        else:\n",
    "            self.update(self.root, key, value)\n",
    "\n",
    "    def __getitem__(self, key):\n",
    "        node = self.find(self.root, key)\n",
    "        return node.value if node else None\n",
    "\n",
    "    def __iter__(self):\n",
    "        return (x for x in self.list_all_nodes(self.root))\n",
    "\n",
    "    def __len__(self):\n",
    "        return self.tree_size(self.root)\n",
    "\n",
    "    def __repr__(self):\n",
    "        return \"<TreeMap> {}\".format(self.tree_size(self))\n",
    "    \n",
    "    def display(self):\n",
    "        return self.display_keys(self.root)"
   ]
  },
  {
   "cell_type": "code",
   "execution_count": 29,
   "metadata": {},
   "outputs": [],
   "source": [
    "tree = TreeMap()"
   ]
  },
  {
   "cell_type": "code",
   "execution_count": null,
   "metadata": {},
   "outputs": [],
   "source": [
    "tree"
   ]
  },
  {
   "cell_type": "code",
   "execution_count": null,
   "metadata": {},
   "outputs": [],
   "source": [
    "print(tree.root)\n",
    "print(tree.display())"
   ]
  },
  {
   "cell_type": "code",
   "execution_count": 9,
   "metadata": {},
   "outputs": [],
   "source": [
    "#tree[bstAsit.key] = bstAsit\n",
    "tree[bstJackie.key] = bstJackie\n",
    "tree[bstLarry.key] = bstLarry"
   ]
  },
  {
   "cell_type": "code",
   "execution_count": null,
   "metadata": {},
   "outputs": [],
   "source": [
    "tree.display()"
   ]
  },
  {
   "cell_type": "code",
   "execution_count": 11,
   "metadata": {},
   "outputs": [],
   "source": [
    "tree[bstPernell.key] = bstPernell\n",
    "tree[bstDerrick.key] = bstDerrick\n",
    "tree[bstZayna.key] = bstZayna"
   ]
  },
  {
   "cell_type": "code",
   "execution_count": 13,
   "metadata": {},
   "outputs": [],
   "source": [
    "tree[bstChris.key] = bstChris\n",
    "tree[bstDenise.key] = bstDenise\n",
    "tree[bstQuentin.key] = bstQuentin\n",
    "tree[bstEddy.key] = bstEddy\n",
    "tree[bstBill.key] = bstBill"
   ]
  },
  {
   "cell_type": "code",
   "execution_count": null,
   "metadata": {},
   "outputs": [],
   "source": [
    "tree['Denise']"
   ]
  }
 ],
 "metadata": {
  "interpreter": {
   "hash": "fc83aee89678d9b71393865b73fef42c64e33515d7ab78ef977dcb1be64f829a"
  },
  "kernelspec": {
   "display_name": "Python 3.9.7 64-bit ('mfpp': venv)",
   "name": "python3"
  },
  "language_info": {
   "codemirror_mode": {
    "name": "ipython",
    "version": 3
   },
   "file_extension": ".py",
   "mimetype": "text/x-python",
   "name": "python",
   "nbconvert_exporter": "python",
   "pygments_lexer": "ipython3",
   "version": "3.9.7"
  },
  "orig_nbformat": 4
 },
 "nbformat": 4,
 "nbformat_minor": 2
}
