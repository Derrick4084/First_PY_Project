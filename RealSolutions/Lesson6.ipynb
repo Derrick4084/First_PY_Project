{
 "cells": [
  {
   "cell_type": "code",
   "execution_count": 41,
   "metadata": {},
   "outputs": [],
   "source": [
    "lst1 = [1,7,4,2,1,3,11,5]"
   ]
  },
  {
   "cell_type": "code",
   "execution_count": 3,
   "metadata": {},
   "outputs": [],
   "source": [
    "def sum_list(arr, target):\n",
    "\n",
    "    n = len(arr)\n",
    "    \n",
    "    # i goes from 0 to n-1\n",
    "    for i in range(0,n):\n",
    "\n",
    "        # j goes from i to n+1 to get the last element\n",
    "        for j in range(i, n+1):\n",
    "            if sum(arr[i:j]) == target:\n",
    "                return i,j\n",
    "    return None, None\n",
    "\n",
    "# optimization 1 maintain running sum for inner loop\n",
    "# when sum exceeds target break inner loop\n",
    "\n"
   ]
  },
  {
   "cell_type": "code",
   "execution_count": 39,
   "metadata": {},
   "outputs": [],
   "source": [
    "def sum_list_2(arr, target):\n",
    "    n = len(arr)\n",
    "\n",
    "    for i in range(0,n):\n",
    "        s = 0\n",
    "        for j in range(i, n+1):\n",
    "            if s == target:\n",
    "                return i, j\n",
    "            elif s > target:\n",
    "                break\n",
    "            if j < n: \n",
    "              s += arr[j]\n",
    "    return None, None\n",
    "            \n"
   ]
  },
  {
   "cell_type": "code",
   "execution_count": null,
   "metadata": {},
   "outputs": [],
   "source": [
    "a, b, c = 0,0,0\n",
    "b = 1\n",
    "a,b,c\n"
   ]
  },
  {
   "cell_type": "code",
   "execution_count": 87,
   "metadata": {},
   "outputs": [],
   "source": [
    "def sum_list_3(arr,target):\n",
    "    i, j, s = 0, 0, 0\n",
    "    n = len(arr)\n",
    "    while i < n and j < n+1:\n",
    "       if s == target:\n",
    "           return i, j\n",
    "       elif s < target:\n",
    "           if j < n:\n",
    "             s += arr[j]\n",
    "             j += 1\n",
    "       elif s > target:\n",
    "           s -= arr[i]\n",
    "           i += 1\n",
    "\n",
    "    return  None, None\n",
    "\n",
    "            "
   ]
  },
  {
   "cell_type": "code",
   "execution_count": null,
   "metadata": {},
   "outputs": [],
   "source": [
    "sum_list_3(lst1,17)"
   ]
  },
  {
   "cell_type": "code",
   "execution_count": null,
   "metadata": {},
   "outputs": [],
   "source": [
    "p =  list(range(1,10,2))\n",
    "\n",
    "p[2:len(p)+1]\n",
    "    "
   ]
  },
  {
   "cell_type": "code",
   "execution_count": 56,
   "metadata": {},
   "outputs": [],
   "source": [
    "def min_steps(str1,str2,i1=0,i2=0):\n",
    "    if i1 == len(str1):\n",
    "        return len(str2) - i2\n",
    "    if i2 == len(str2):\n",
    "        return len(str1) - i1\n",
    "    if str1[i1] == str2[i2]:\n",
    "        return min_steps(str1,str2,i1+1,i2+1)\n",
    "    else:\n",
    "        option1 = min_steps(str1, str2, i1, i2+1) # insert at beginning\n",
    "        option2 = min_steps(str1, str2, i1+1, i2) # delete\n",
    "        option3 = min_steps(str1,str2,i1+1,i2+1)  # swap first\n",
    "        return 1 + min(option1,option2,option3)\n"
   ]
  },
  {
   "cell_type": "code",
   "execution_count": 71,
   "metadata": {},
   "outputs": [],
   "source": [
    "def min_steps_memo(str1,str2):\n",
    "    memo = {}\n",
    "    def recurse(i1,i2):\n",
    "        key = i1, i2\n",
    "        if key in memo:\n",
    "            return memo[key]\n",
    "        elif i1 == len(str1):\n",
    "            memo[key] = len(str2) - i2\n",
    "        elif i2 == len(str2):\n",
    "            memo[key] = len(str1) - i1\n",
    "        elif str1[i1] == str2[i2]:\n",
    "            memo[key] = recurse(i1+1,i2+1)\n",
    "        else:\n",
    "            # option1 = recurse(i1, i2+1) # insert at beginning\n",
    "            # option2 = recurse(i1+1, i2) # delete\n",
    "            # option3 = recurse(i1+1,i2+1)  # swap first\n",
    "\n",
    "            memo[key] = 1 + min(recurse(i1, i2+1),recurse(i1+1, i2),recurse(i1+1,i2+1))\n",
    "\n",
    "        return memo[key]\n",
    "    return recurse(0,0)\n",
    "        \n",
    "\n",
    "        \n",
    "\n"
   ]
  },
  {
   "cell_type": "code",
   "execution_count": null,
   "metadata": {},
   "outputs": [],
   "source": [
    "min_steps_memo('intention','hypertention')"
   ]
  }
 ],
 "metadata": {
  "interpreter": {
   "hash": "fc83aee89678d9b71393865b73fef42c64e33515d7ab78ef977dcb1be64f829a"
  },
  "kernelspec": {
   "display_name": "Python 3.9.7 64-bit ('mfpp': venv)",
   "name": "python3"
  },
  "language_info": {
   "codemirror_mode": {
    "name": "ipython",
    "version": 3
   },
   "file_extension": ".py",
   "mimetype": "text/x-python",
   "name": "python",
   "nbconvert_exporter": "python",
   "pygments_lexer": "ipython3",
   "version": "3.9.7"
  },
  "orig_nbformat": 4
 },
 "nbformat": 4,
 "nbformat_minor": 2
}
