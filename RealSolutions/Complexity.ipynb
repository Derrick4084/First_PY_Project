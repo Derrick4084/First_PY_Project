{
 "cells": [
  {
   "cell_type": "code",
   "execution_count": 1,
   "metadata": {},
   "outputs": [
    {
     "name": "stdout",
     "output_type": "stream",
     "text": [
      "120\n"
     ]
    }
   ],
   "source": [
    "def fact(n):\n",
    "    product = 1\n",
    "    for i in range(n):\n",
    "        product = product * (i+1)\n",
    "    return product\n",
    "\n",
    "print (fact(5))"
   ]
  },
  {
   "cell_type": "code",
   "execution_count": null,
   "metadata": {},
   "outputs": [],
   "source": [
    "%timeit fact(50)"
   ]
  },
  {
   "cell_type": "code",
   "execution_count": null,
   "metadata": {},
   "outputs": [],
   "source": [
    "def fact2(n):\n",
    "    if n == 0:\n",
    "        return 1\n",
    "    else:\n",
    "        return n * fact2(n-1)\n",
    "\n",
    "print (fact2(5))"
   ]
  },
  {
   "cell_type": "code",
   "execution_count": null,
   "metadata": {},
   "outputs": [],
   "source": [
    "%timeit fact2(50)"
   ]
  },
  {
   "cell_type": "markdown",
   "metadata": {},
   "source": [
    "## <font color=lime>Constant Complexity (O(c))</font>\n",
    "* <font color=pink>Irrespective of the input size, or the number of items in the input list items, the algorithm performs only 2 steps</font>\n",
    "* <font color=pink>Finding the square of the first element and printing the result on the screen. Hence, the complexity remains constant</font>"
   ]
  },
  {
   "cell_type": "code",
   "execution_count": null,
   "metadata": {},
   "outputs": [],
   "source": [
    "def constant_algo(items):\n",
    "    result = items[0] * items[0]\n",
    "    print(result)\n",
    "\n",
    "constant_algo([4, 5, 6, 8])"
   ]
  },
  {
   "cell_type": "markdown",
   "metadata": {},
   "source": [
    "## <font color=lime>Linear Complexity (O(n))</font>\n",
    "* <font color=pink>Iteration of for loop based on number of elements in the list (n)</font>\n",
    "* <font color=pink>Below are 4 items therefore (n) is 4</font>"
   ]
  },
  {
   "cell_type": "code",
   "execution_count": null,
   "metadata": {},
   "outputs": [],
   "source": [
    "def linear_algo(items):\n",
    "    for item in items:\n",
    "        print(item)\n",
    "\n",
    "linear_algo([4, 5, 6, 8])"
   ]
  },
  {
   "cell_type": "markdown",
   "metadata": {},
   "source": [
    "## <font color=lime>Linear Complexity (O(2n)) this reults to (O(n))</font>\n",
    "* <font color=pink>Has 2 O(n) which is O(2n)</font>\n",
    "* <font color=pink>Drop constant because of infinty which equates to an O(n) algorithm</font>"
   ]
  },
  {
   "cell_type": "code",
   "execution_count": null,
   "metadata": {},
   "outputs": [],
   "source": [
    "def linear_algo_2n(items):\n",
    "    for item in items:\n",
    "        print(item)\n",
    "\n",
    "    for item in items:\n",
    "        print(item)\n",
    "\n",
    "linear_algo_2n([4, 5, 6, 8])"
   ]
  },
  {
   "cell_type": "markdown",
   "metadata": {},
   "source": [
    "## <font color=lime>Quadratic Complexity (O(n^2))</font>\n",
    "* <font color=pink>When steps required to execute an algorithm are a quadratic function of the number of items in the input</font>\n"
   ]
  },
  {
   "cell_type": "code",
   "execution_count": null,
   "metadata": {},
   "outputs": [],
   "source": [
    "def quadratic_algo(items):\n",
    "    for item in items:\n",
    "        for item2 in items:\n",
    "            print(item, ' ' ,item2)\n",
    "\n",
    "quadratic_algo([4, 5, 6, 8])"
   ]
  },
  {
   "cell_type": "markdown",
   "metadata": {},
   "source": [
    "## <font color=lime>Complex Algoorithm</font>\n"
   ]
  },
  {
   "cell_type": "code",
   "execution_count": null,
   "metadata": {},
   "outputs": [],
   "source": [
    "def complex_algo(items):\n",
    "\n",
    "    for i in range(5):                    #complexity for this part is constant O(5)\n",
    "        print (\"Python is awesome\")       #Since five constant steps are being performed \n",
    "                                          #in this piece of code irrespective of the input.\n",
    "\n",
    "    for item in items:     #complexity for this part is O(n)\n",
    "        print(item)\n",
    "                           #Together is O(2n) but drop constant which makes O(n) \n",
    "    \n",
    "    for item in items:     #complexity for this part is O(n)\n",
    "        print(item)\n",
    "\n",
    "    print(\"Big O\")         #string being printed 3 times hence contant O(3)\n",
    "    print(\"Big O\")\n",
    "    print(\"Big O\")\n",
    "\n",
    "    # Adding them together O(5) + O(n) + O(n) + O(3)\n",
    "    # Breaks down to O(8) + O(2n) which eventually is O(8) + O(n)\n",
    "\n",
    "complex_algo([4, 5, 6, 8])\n",
    "\n"
   ]
  }
 ],
 "metadata": {
  "interpreter": {
   "hash": "fc83aee89678d9b71393865b73fef42c64e33515d7ab78ef977dcb1be64f829a"
  },
  "kernelspec": {
   "display_name": "Python 3.9.7 64-bit ('mfpp': venv)",
   "name": "python3"
  },
  "language_info": {
   "codemirror_mode": {
    "name": "ipython",
    "version": 3
   },
   "file_extension": ".py",
   "mimetype": "text/x-python",
   "name": "python",
   "nbconvert_exporter": "python",
   "pygments_lexer": "ipython3",
   "version": "3.9.7"
  },
  "orig_nbformat": 4
 },
 "nbformat": 4,
 "nbformat_minor": 2
}
