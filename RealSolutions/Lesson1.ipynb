{
 "cells": [
  {
   "cell_type": "markdown",
   "metadata": {},
   "source": [
    "## <font color=lime>Number times asorted list has been rotated</font>"
   ]
  },
  {
   "cell_type": "code",
   "execution_count": 1,
   "metadata": {},
   "outputs": [],
   "source": [
    "testcases = []\n",
    "testcases.append({\"input\":{\"nums\":[1,3,5,6,7,9,11,12,14,15]}, \"expout\": 0})\n",
    "testcases.append({\"input\":{\"nums\":[12,14,15,2,3,5,6,7,9,11]}, \"expout\": 3})\n",
    "testcases.append({\"input\":{\"nums\":[6,7,9,11,12,0,3,5]}, \"expout\": 5})\n",
    "testcases.append({\"input\":{\"nums\":[15,1,3,5,6,7,9,11,12,14]}, \"expout\": 1})\n",
    "testcases.append({\"input\":{\"nums\":[1]}, \"expout\": 0})\n",
    "testcases.append({\"input\":{\"nums\":[]}, \"expout\": 0})\n"
   ]
  },
  {
   "cell_type": "code",
   "execution_count": 2,
   "metadata": {},
   "outputs": [],
   "source": [
    "# complexity of this function is O(n)\n",
    "# iteration based on size of n \n",
    "def count_rotations(nums):\n",
    "    print(nums)\n",
    "    position = 0\n",
    "    while position < len(nums):\n",
    "        if position == 0 and len(nums) >= 2 and nums[position+1] < nums[position]:\n",
    "            return position + 1\n",
    "        if position > 1 and nums[position] < nums[position-1]:\n",
    "            return position\n",
    "        position += 1 \n",
    "    return 0"
   ]
  },
  {
   "cell_type": "code",
   "execution_count": null,
   "metadata": {},
   "outputs": [],
   "source": [
    "#print(\"Number rotations\", count_rotations(testcases[1][\"input\"][\"nums\"]))\n",
    "\n",
    "for cases in testcases:\n",
    "    print(\"Number rotations\", count_rotations(**cases[\"input\"]))"
   ]
  },
  {
   "cell_type": "code",
   "execution_count": null,
   "metadata": {},
   "outputs": [],
   "source": [
    "list_asorted_rot = []\n",
    "list_asorted_rot.append({\"input\":{\"nums\":[1,3,5,6,7,9,11,12,14,15]}, \"output\": 0})\n",
    "list_asorted_rot.append({\"input\":{\"nums\":[12,14,15,2,3,5,6,7,9,11]}, \"output\": 3})\n",
    "list_asorted_rot.append({\"input\":{\"nums\":[6,7,9,11,12,0,3,5]}, \"output\": 5})\n",
    "list_asorted_rot.append({\"input\":{\"nums\":[15,1,3,5,6,7,9,11,12,14]}, \"output\": 0})\n",
    "list_asorted_rot.append({\"input\":{\"nums\":[1]}, \"output\": 0})\n",
    "list_asorted_rot.append({\"input\":{\"nums\":[]}, \"output\": 0})"
   ]
  },
  {
   "cell_type": "code",
   "execution_count": 33,
   "metadata": {},
   "outputs": [],
   "source": [
    "def binary_search(lo, hi, condition):\n",
    "    while lo <= hi:\n",
    "         mid = (lo + hi) // 2\n",
    "         result = condition(mid)\n",
    "         print(\"lo:\",lo,\" hi:\",hi)\n",
    "         print(\"bs middle card index: \", mid)\n",
    "         print(\"bs condition result: \", result)\n",
    "         if result == \"found\":\n",
    "            return mid\n",
    "         elif result == \"left\":\n",
    "            hi = mid-1\n",
    "         else:\n",
    "            lo = mid+1\n",
    "    return -1\n",
    "\n",
    "def count_rotations_binary(nums):\n",
    "    lo = 0\n",
    "    hi = len(nums)-1\n",
    "    while lo <= hi:\n",
    "        mid = (lo + hi) //2\n",
    "        if mid > 0 and nums[mid] < nums[mid-1]:\n",
    "            return nums[mid]\n",
    "        elif nums[mid] < nums[hi]:\n",
    "           hi = mid-1\n",
    "           #return \"left\"\n",
    "        else:\n",
    "            lo = mid+1\n",
    "            #return \"right\"\n",
    "    return -1"
   ]
  },
  {
   "cell_type": "code",
   "execution_count": 77,
   "metadata": {},
   "outputs": [],
   "source": [
    "def binary_search_for_rot(lo, hi, condition):\n",
    "    while lo <= hi:\n",
    "         mid = (lo + hi) // 2\n",
    "         result = condition(mid)\n",
    "         print(\"lo:\",lo,\"\\nhi:\",hi,\"\\nmid:\", mid,\"\\ncondition result:\", result)\n",
    "         if result == \"found\":\n",
    "            return mid\n",
    "         elif result == \"left\":\n",
    "            hi = mid-1\n",
    "         else:\n",
    "            lo = mid+1\n",
    "    return -1\n",
    "\n",
    "\n",
    "def count_rotations_binary_v2(nums):\n",
    "    \n",
    "    if len(nums) < 0:\n",
    "        return -1\n",
    "    \n",
    "    def condition(mid):\n",
    "        middle_number = nums[mid]\n",
    "        if middle_number < nums[mid-1]:\n",
    "            return \"found\"\n",
    "        elif middle_number == nums[mid-1] or middle_number < nums[len(nums)-1]:\n",
    "            return \"left\"\n",
    "        else: \n",
    "            return \"right\"\n",
    "    #print(nums[binary_search_for_rot(0, len(nums)-1, condition)])\n",
    "    print(binary_search_for_rot(0, len(nums)-1, condition))\n",
    "        \n",
    "    "
   ]
  },
  {
   "cell_type": "code",
   "execution_count": null,
   "metadata": {},
   "outputs": [],
   "source": [
    "count_rotations_binary_v2([])\n",
    "count_rotations_binary_v2([8,9,2,3,4,5,6,7])\n",
    "\n",
    "#count_rotations_binary_v2([8,8,0,0,0,2,2,2,3,6,6,6,6,6])\n",
    "\n",
    "#count_rotations_binary_v2([6,7,9,11,12,1,3,5])\n",
    "\n",
    "#for cases in testcases:\n",
    "    #print(count_rotations_binary_v2(**cases[\"input\"]))\n",
    "\n"
   ]
  }
 ],
 "metadata": {
  "interpreter": {
   "hash": "fc83aee89678d9b71393865b73fef42c64e33515d7ab78ef977dcb1be64f829a"
  },
  "kernelspec": {
   "display_name": "Python 3.9.7 64-bit ('mfpp': venv)",
   "name": "python3"
  },
  "language_info": {
   "codemirror_mode": {
    "name": "ipython",
    "version": 3
   },
   "file_extension": ".py",
   "mimetype": "text/x-python",
   "name": "python",
   "nbconvert_exporter": "python",
   "pygments_lexer": "ipython3",
   "version": "3.9.7"
  },
  "orig_nbformat": 4
 },
 "nbformat": 4,
 "nbformat_minor": 2
}
