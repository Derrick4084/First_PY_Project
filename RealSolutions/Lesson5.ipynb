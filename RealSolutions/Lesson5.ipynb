{
 "cells": [
  {
   "cell_type": "markdown",
   "metadata": {},
   "source": [
    "## <font color=lime>Graph Algorithms (BFS, DFS, Shortest path)</font>"
   ]
  },
  {
   "cell_type": "code",
   "execution_count": 1,
   "metadata": {},
   "outputs": [],
   "source": [
    "# regular graph\n",
    "num_nodes = 5\n",
    "edges =[(0,1),(0,4),(1,2),(1,3),(1,4),(2,3),(3,4)]\n",
    "\n",
    "# seperated graph\n",
    "num_nodes_2 = 9\n",
    "edges_2 = [(0,1),(0,3),(1,2),(2,3),(4,5),(4,6),(5,6),(7,8)]\n",
    "\n",
    "# graph with weights\n",
    "num_nodes_3 = 9\n",
    "edges_3 = [(0,1,3), (0,3,2), (0,8,4), (1,7,4), (2,7,2), (2,3,6), (2,5,1), (3,4,1), (4,8,8), (5,6,8)]\n",
    "\n",
    "# directed graph\n",
    "num_nodes_4 = 5\n",
    "edges_4 = [(0,1), (1,2), (2,3), (2,4), (4,2), (3,0)]\n",
    "\n",
    "num_nodes_5 = 6\n",
    "edges_5 = [(0,1,4),(0,2,2),(1,2,5),(1,3,10),(2,4,3),(3,5,11),(4,3,4)]\n"
   ]
  },
  {
   "cell_type": "code",
   "execution_count": null,
   "metadata": {},
   "outputs": [],
   "source": [
    "[3,2,4,4,2,6,1,1,8,8]"
   ]
  },
  {
   "cell_type": "markdown",
   "metadata": {},
   "source": [
    "## <font color=lime>Adjacency List</font>"
   ]
  },
  {
   "cell_type": "code",
   "execution_count": 2,
   "metadata": {},
   "outputs": [],
   "source": [
    "class Graph:\n",
    "    \n",
    "    def __init__(self, num_nodes, edges):\n",
    "        \n",
    "        self.num_nodes = num_nodes\n",
    "        self.data = [[] for _ in range(num_nodes)]\n",
    "        for n1, n2 in edges:\n",
    "            self.data[n1].append(n2)\n",
    "            self.data[n2].append(n1)\n",
    "\n",
    "    def __repr__(self) -> str:\n",
    "       return \"\\n\".join([\"{}: {}\".format(n,neighbors) for n , neighbors in enumerate(self.data)])\n",
    "\n",
    "    def __str__(self) -> str:\n",
    "        return self.__repr__()\n",
    "        \n",
    "\n"
   ]
  },
  {
   "cell_type": "code",
   "execution_count": 3,
   "metadata": {},
   "outputs": [],
   "source": [
    "g1 = Graph(num_nodes,edges)"
   ]
  },
  {
   "cell_type": "code",
   "execution_count": null,
   "metadata": {},
   "outputs": [],
   "source": [
    "g1"
   ]
  },
  {
   "cell_type": "markdown",
   "metadata": {},
   "source": [
    "## <font color=lime>Breath First Search (BFS)</font>"
   ]
  },
  {
   "cell_type": "code",
   "execution_count": 59,
   "metadata": {},
   "outputs": [],
   "source": [
    "def bfs(graph,root):\n",
    "    queue = []\n",
    "    discovered = [False] * len(graph.data)\n",
    "    distance = [None] * len(graph.data)\n",
    "    parent = [None] * len(graph.data)\n",
    "\n",
    "    discovered[root] = True\n",
    "    queue.append(root)\n",
    "    distance[root] = 0\n",
    "    idx = 0\n",
    "\n",
    "    while idx < len(queue):\n",
    "        # dequeue\n",
    "        current = queue[idx]\n",
    "        idx += 1\n",
    "\n",
    "        # check all edges of current\n",
    "        for node in graph.data[current]:\n",
    "            if not discovered[node]:\n",
    "                distance[node] = 1 + distance[current]\n",
    "                parent[node] = current\n",
    "                discovered[node] = True\n",
    "                queue.append(node)\n",
    "\n",
    "    return queue, distance, parent\n",
    "\n",
    "\n"
   ]
  },
  {
   "cell_type": "code",
   "execution_count": null,
   "metadata": {},
   "outputs": [],
   "source": [
    "bfs(g1,0)"
   ]
  },
  {
   "cell_type": "markdown",
   "metadata": {},
   "source": [
    "## <font color=lime>Depth First Search (DFS)</font>"
   ]
  },
  {
   "cell_type": "code",
   "execution_count": null,
   "metadata": {},
   "outputs": [],
   "source": [
    "g1"
   ]
  },
  {
   "cell_type": "code",
   "execution_count": 11,
   "metadata": {},
   "outputs": [],
   "source": [
    "# distance is shortest path so not good for dfs use bfs instead\n",
    "\n",
    "def dfs(graph,root):\n",
    "    stack = []\n",
    "    discovered = [False] * len(graph.data)\n",
    "    #distance = [None] * len(graph.data)\n",
    "    #parent = [None] * len(graph.data)\n",
    "    result = []\n",
    "\n",
    "    stack.append(root)\n",
    "\n",
    "    while len(stack) > 0:\n",
    "        current = stack.pop()\n",
    "        if not discovered[current]:\n",
    "            discovered[current] = True\n",
    "            #parent.node = current\n",
    "            result.append(current)\n",
    "            for node in graph.data[current]:\n",
    "                if not discovered[node]:\n",
    "                 stack.append(node)\n",
    "    \n",
    "    \n",
    "    \n",
    "    return result\n"
   ]
  },
  {
   "cell_type": "code",
   "execution_count": null,
   "metadata": {},
   "outputs": [],
   "source": [
    "g1"
   ]
  },
  {
   "cell_type": "code",
   "execution_count": null,
   "metadata": {},
   "outputs": [],
   "source": [
    "dfs(g1,3)"
   ]
  },
  {
   "cell_type": "code",
   "execution_count": 37,
   "metadata": {},
   "outputs": [],
   "source": [
    "class Graph_V2:\n",
    "    \n",
    "    def __init__(self, num_nodes, edges, directed=False, weighted=False):\n",
    "        \n",
    "        self.num_nodes = num_nodes\n",
    "        self.directed = directed\n",
    "        self.weighted = weighted\n",
    "        self.data = [[] for _ in range(num_nodes)]\n",
    "        self.weight = [[] for _ in range(num_nodes)]\n",
    "        for edge in edges:\n",
    "            if self.weighted:\n",
    "                #include weights\n",
    "                node1, node2, weight = edge\n",
    "                self.data[node1].append(node2)\n",
    "                self.weight[node1].append(weight)\n",
    "                if not directed:\n",
    "                    self.data[node2].append(node1)\n",
    "                    self.weight[node2].append(weight)\n",
    "\n",
    "            else:\n",
    "                #work without weights\n",
    "                node1, node2 = edge\n",
    "                self.data[node1].append(node2)\n",
    "                if not directed:\n",
    "                    self.data[node2].append(node1)\n",
    "\n",
    "    def __repr__(self) -> str:\n",
    "        result = \"\"\n",
    "        if self.weighted:\n",
    "            for i, (nodes,weights) in enumerate(zip(self.data,self.weight)):\n",
    "                result += \"{}: {}\\n\".format(i,list(zip(nodes,weights)))\n",
    "        else:\n",
    "            for i,nodes in enumerate(self.data):\n",
    "                result += \"{}: {}\\n\".format(i,nodes)\n",
    "                \n",
    "\n",
    "\n",
    "        return result\n",
    "                \n"
   ]
  },
  {
   "cell_type": "code",
   "execution_count": null,
   "metadata": {},
   "outputs": [],
   "source": [
    "g2 = Graph_V2(num_nodes_3,edges_3,weighted=True)\n",
    "g2"
   ]
  },
  {
   "cell_type": "code",
   "execution_count": null,
   "metadata": {},
   "outputs": [],
   "source": [
    "g2.weight"
   ]
  },
  {
   "cell_type": "code",
   "execution_count": null,
   "metadata": {},
   "outputs": [],
   "source": [
    "bb =[1,2,3]\n",
    "cc = [4,5,6]\n",
    "\n",
    "y = enumerate(zip(bb, cc))\n",
    "\n",
    "for x, value in y:\n",
    "    print(x, value)"
   ]
  },
  {
   "cell_type": "code",
   "execution_count": 61,
   "metadata": {},
   "outputs": [],
   "source": [
    "def shortest_path(graph,source,target):\n",
    "    visited = [False] * len(graph.data)\n",
    "    distance = [float('inf')] * len(graph.data)\n",
    "    parent = [None] * len(graph.data)\n",
    "    queue = []\n",
    "\n",
    "    distance[source] = 0\n",
    "    queue.append(source)\n",
    "    idx = 0\n",
    "\n",
    "    while idx < len(queue) and not visited[target]:\n",
    "        current = queue[idx]\n",
    "        visited[current] = True\n",
    "        idx += 1\n",
    "        # update the distance of all the neighbors\n",
    "        update_distances(graph, current, distance, parent)\n",
    "        \n",
    "        # find the first unvisited node with the smallest distance\n",
    "        next_node = pick_next_node(distance,visited)\n",
    "        if next_node:\n",
    "            queue.append(next_node)\n",
    "        \n",
    "    return distance[target], parent\n",
    "\n",
    "def update_distances(graph, current, distance, parent=None):\n",
    "    neighbors = graph.data[current]\n",
    "    weights = graph.weight[current]\n",
    "    for i, node in enumerate(neighbors):\n",
    "        weight = weights[i]\n",
    "        if distance[current] + weight < distance[node]:\n",
    "            distance[node] = distance[current] + weight\n",
    "            if parent:\n",
    "                parent[node] = current\n",
    "\n",
    "def pick_next_node(distance,visited):\n",
    "    min_distance = float('inf')\n",
    "    min_node = None\n",
    "    for node in range(len(distance)):\n",
    "        if not visited[node] and distance[node] < min_distance:\n",
    "            min_node = node\n",
    "            min_distance = distance[node]\n",
    "    return min_node\n"
   ]
  },
  {
   "cell_type": "code",
   "execution_count": 62,
   "metadata": {},
   "outputs": [],
   "source": [
    "graph2 = Graph_V2(num_nodes_5, edges_5, directed=True, weighted=True)"
   ]
  },
  {
   "cell_type": "code",
   "execution_count": null,
   "metadata": {},
   "outputs": [],
   "source": [
    "shortest_path(graph2,0,5)"
   ]
  },
  {
   "cell_type": "code",
   "execution_count": 82,
   "metadata": {},
   "outputs": [],
   "source": [
    "visited = [False] * 5\n",
    "distance = [float('inf')] * 5\n",
    "parent = enumerate([None] * 5)\n",
    "queue = []"
   ]
  },
  {
   "cell_type": "code",
   "execution_count": null,
   "metadata": {},
   "outputs": [],
   "source": [
    "graph2.data"
   ]
  }
 ],
 "metadata": {
  "interpreter": {
   "hash": "fc83aee89678d9b71393865b73fef42c64e33515d7ab78ef977dcb1be64f829a"
  },
  "kernelspec": {
   "display_name": "Python 3.9.7 64-bit ('mfpp': venv)",
   "name": "python3"
  },
  "language_info": {
   "codemirror_mode": {
    "name": "ipython",
    "version": 3
   },
   "file_extension": ".py",
   "mimetype": "text/x-python",
   "name": "python",
   "nbconvert_exporter": "python",
   "pygments_lexer": "ipython3",
   "version": "3.9.7"
  },
  "orig_nbformat": 4
 },
 "nbformat": 4,
 "nbformat_minor": 2
}
