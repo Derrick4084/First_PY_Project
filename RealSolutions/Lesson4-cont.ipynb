{
 "cells": [
  {
   "cell_type": "markdown",
   "metadata": {},
   "source": []
  },
  {
   "cell_type": "code",
   "execution_count": 6,
   "metadata": {},
   "outputs": [],
   "source": [
    "test0 = { \n",
    "    'input': {\n",
    "        'capacity': 165,\n",
    "        'weights': [23,31,29,44,53,38,63,85,89,82],\n",
    "        'profits': [92,57,49,68,60,43,67,84,87,72]\n",
    "        },\n",
    "        'output' : 309              \n",
    "}\n",
    "\n",
    "test1 = { \n",
    "    'input': {\n",
    "        'capacity': 3,\n",
    "        'weights': [4,5,6],\n",
    "        'profits': [1,2,3]\n",
    "        },\n",
    "        'output' : 0              \n",
    "}\n",
    "\n",
    "test2 = { \n",
    "    'input': {\n",
    "        'capacity': 4,\n",
    "        'weights': [4,5,1],\n",
    "        'profits': [1,2,3]\n",
    "        },\n",
    "        'output' : 3              \n",
    "}\n",
    "\n",
    "test3 = { \n",
    "    'input': {\n",
    "        'capacity': 170,\n",
    "        'weights': [41,50,49,59,55,57,60],\n",
    "        'profits': [442,525,511,593,546,564,617]\n",
    "        },\n",
    "        'output' : 1735              \n",
    "}\n",
    "\n",
    "test4 = { \n",
    "    'input': {\n",
    "        'capacity': 15,\n",
    "        'weights': [4,5,6],\n",
    "        'profits': [1,2,3]\n",
    "        },\n",
    "        'output' : 6              \n",
    "}\n",
    "\n",
    "test5 = { \n",
    "    'input': {\n",
    "        'capacity': 15,\n",
    "        'weights': [4,5,1,3,2,5],\n",
    "        'profits': [2,3,1,5,4,7]\n",
    "        },\n",
    "        'output' : 19              \n",
    "}"
   ]
  },
  {
   "cell_type": "code",
   "execution_count": 8,
   "metadata": {},
   "outputs": [],
   "source": [
    "testcases = [test0,test1,test2,test3,test4,test5]"
   ]
  },
  {
   "cell_type": "code",
   "execution_count": 10,
   "metadata": {},
   "outputs": [],
   "source": [
    "def max_profit_recursive(weights,profits,capacity,idx=0):\n",
    "    print(\"capacity:\",capacity,\"index:\",idx)\n",
    "    if idx == len(weights):\n",
    "        return 0\n",
    "    elif weights[idx] > capacity:\n",
    "\n",
    "        print(\"  weight > capacity\",idx, weights,profits,capacity,idx+1)\n",
    "\n",
    "        return max_profit_recursive(weights,profits,capacity,idx+1)\n",
    "        \n",
    "    else:\n",
    "        print(\"        run option1\")\n",
    "        option1 = max_profit_recursive(weights,profits,capacity,idx+1)\n",
    "        print(\"        run option2\")\n",
    "        option2 = profits[idx] + max_profit_recursive(weights,profits,capacity-weights[idx],idx+1)\n",
    "        print(\"        \",idx,option1,option2,\"weights:\",weights[idx], \" profits:\",profits[idx], \" capacity:\",capacity)\n",
    "        \n",
    "    return max(option1,option2)\n",
    "\n"
   ]
  },
  {
   "cell_type": "code",
   "execution_count": null,
   "metadata": {},
   "outputs": [],
   "source": [
    "test2"
   ]
  },
  {
   "cell_type": "code",
   "execution_count": null,
   "metadata": {},
   "outputs": [],
   "source": [
    "max_profit_recursive(**test0['input'])"
   ]
  },
  {
   "cell_type": "code",
   "execution_count": 11,
   "metadata": {},
   "outputs": [],
   "source": [
    "def max_profit_memo(weights,profits,capacity):\n",
    "    memo = {}\n",
    "    #totalprofits = 0\n",
    "    #print(memo)\n",
    "    #print(profits)\n",
    "    #print(weights)\n",
    "    #print(capacity)\n",
    "    \n",
    "\n",
    "    def recurse(idx=0, cap=capacity):\n",
    "\n",
    "        key = (idx, cap)\n",
    "        print(key)\n",
    "        if idx == len(weights):\n",
    "            print(\"idx = length/weights no more elements\", profits[idx-1])\n",
    "            memo[key] = 0\n",
    "            #return 0\n",
    "        elif key in memo:\n",
    "             print(\"in Memo\")\n",
    "             #recurse(idx+1, cap)\n",
    "             return memo[key]\n",
    "                   \n",
    "        elif weights[idx]  > cap:\n",
    "            print(\"weight more than capacity\")\n",
    "            print(\"  weights[idx]  > cap\",idx, weights[idx], profits[idx], cap, idx+1)\n",
    "            #memo[idx] = (weights[idx], profits[idx], cap)\n",
    "            #memo[idx] = profits[idx]\n",
    "            #print(memo[idx])\n",
    "            memo[key] = recurse(idx+1, cap)\n",
    "            \n",
    "        else:\n",
    "             \n",
    "             \n",
    "             #option1 = recurse(idx,totalprofits,cap)\n",
    "             #print(memo)\n",
    "\n",
    "             memo[key] = max(recurse(idx+1, cap), profits[idx] + recurse(idx+1,cap-weights[idx]))\n",
    "\n",
    "             \n",
    "             #option1 = recurse(idx+1, cap)\n",
    "             #option2 = profits[idx] + recurse(idx+1,cap-weights[idx])\n",
    "             \n",
    "             #return max(recurse(idx+1, cap), profits[idx] + recurse(idx+1,cap-weights[idx]))\n",
    "\n",
    "        return memo[key]\n",
    "    return recurse()\n",
    "    \n",
    "   \n",
    "    "
   ]
  },
  {
   "cell_type": "code",
   "execution_count": null,
   "metadata": {},
   "outputs": [],
   "source": [
    "test3"
   ]
  },
  {
   "cell_type": "code",
   "execution_count": null,
   "metadata": {},
   "outputs": [],
   "source": [
    "max_profit_memo(**test0['input'])"
   ]
  },
  {
   "cell_type": "code",
   "execution_count": null,
   "metadata": {},
   "outputs": [],
   "source": [
    "n1 = 5\n",
    "n2 = 7\n",
    "[[0 for _ in range(n2)] for _ in range(n1)]"
   ]
  },
  {
   "cell_type": "code",
   "execution_count": 12,
   "metadata": {},
   "outputs": [],
   "source": [
    "def max_profit_dp(weights,profits,capacity):\n",
    "    n = len(weights)\n",
    "    table = [[0 for _ in range(capacity + 1)] for _ in range(n + 1)]\n",
    "\n",
    "    for i in range(n):\n",
    "        for c in range(1,capacity + 1):\n",
    "            if weights[i] > c:\n",
    "                table[i+1][c] = table[i][c]\n",
    "            else:\n",
    "                table[i+1][c] = max(table[i][c],profits[i] + table[i][c-weights[i]])\n",
    "    return table[-1][-1]"
   ]
  },
  {
   "cell_type": "code",
   "execution_count": null,
   "metadata": {},
   "outputs": [],
   "source": [
    "max_profit_dp(**test0['input'])"
   ]
  }
 ],
 "metadata": {
  "interpreter": {
   "hash": "fc83aee89678d9b71393865b73fef42c64e33515d7ab78ef977dcb1be64f829a"
  },
  "kernelspec": {
   "display_name": "Python 3.9.7 64-bit ('mfpp': venv)",
   "name": "python3"
  },
  "language_info": {
   "codemirror_mode": {
    "name": "ipython",
    "version": 3
   },
   "file_extension": ".py",
   "mimetype": "text/x-python",
   "name": "python",
   "nbconvert_exporter": "python",
   "pygments_lexer": "ipython3",
   "version": "3.9.7"
  },
  "orig_nbformat": 4
 },
 "nbformat": 4,
 "nbformat_minor": 2
}
