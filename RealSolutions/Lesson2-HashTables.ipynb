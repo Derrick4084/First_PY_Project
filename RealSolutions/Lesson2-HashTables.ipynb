{
 "cells": [
  {
   "cell_type": "markdown",
   "metadata": {},
   "source": [
    "## <font color=lime>Dictionaries and Hash Tables</font>"
   ]
  },
  {
   "cell_type": "code",
   "execution_count": 1,
   "metadata": {},
   "outputs": [],
   "source": [
    "phonenumbers = {'Derrick': '678-776-5547','Pernell': '672-111-8765','Zayna':'673-989-1937'}\n"
   ]
  },
  {
   "cell_type": "code",
   "execution_count": 3,
   "metadata": {},
   "outputs": [],
   "source": [
    "phonenumbers['Larry'] = '404-303-2938'"
   ]
  },
  {
   "cell_type": "code",
   "execution_count": null,
   "metadata": {},
   "outputs": [],
   "source": [
    "phonenumbers"
   ]
  },
  {
   "cell_type": "code",
   "execution_count": 6,
   "metadata": {},
   "outputs": [],
   "source": []
  },
  {
   "cell_type": "code",
   "execution_count": 14,
   "metadata": {},
   "outputs": [],
   "source": [
    "def get_index(data_list, a_string):\n",
    "    # variable to save result of iteration\n",
    "    result = 0\n",
    "    for a_character in a_string:\n",
    "        # convert character to number using ord() statement\n",
    "        a_number = ord(a_character)\n",
    "        # update result by adding number\n",
    "        result += a_number\n",
    "        # list index number based on size of list\n",
    "    list_index = result % len(data_list)\n",
    "    return list_index\n",
    "    "
   ]
  },
  {
   "cell_type": "code",
   "execution_count": 15,
   "metadata": {},
   "outputs": [],
   "source": [
    "def get_valid_index(data_list, key):\n",
    "\n",
    "    idx = get_index(data_list, key)\n",
    "\n",
    "    while True:\n",
    "        \n",
    "        kv = data_list[idx]\n",
    "        if kv is None:\n",
    "            return idx\n",
    "        k,v = kv\n",
    "        if k == key:\n",
    "            return idx\n",
    "        idx += 1\n",
    "\n",
    "        if idx == len(data_list):\n",
    "            idx = 0"
   ]
  },
  {
   "cell_type": "code",
   "execution_count": 19,
   "metadata": {},
   "outputs": [
    {
     "data": {
      "text/plain": [
       "708"
      ]
     },
     "execution_count": 19,
     "metadata": {},
     "output_type": "execute_result"
    }
   ],
   "source": [
    "ord('D') + ord('e') + ord('r') + ord('r') + ord('i') + ord('c') + ord('k')"
   ]
  },
  {
   "cell_type": "code",
   "execution_count": null,
   "metadata": {},
   "outputs": [],
   "source": [
    "data_list = [None] * 4096"
   ]
  },
  {
   "cell_type": "code",
   "execution_count": 21,
   "metadata": {},
   "outputs": [
    {
     "data": {
      "text/plain": [
       "(True, 4096)"
      ]
     },
     "execution_count": 21,
     "metadata": {},
     "output_type": "execute_result"
    }
   ],
   "source": [
    "data_list[99] == None, len(data_list)"
   ]
  },
  {
   "cell_type": "code",
   "execution_count": 17,
   "metadata": {},
   "outputs": [
    {
     "data": {
      "text/plain": [
       "True"
      ]
     },
     "execution_count": 17,
     "metadata": {},
     "output_type": "execute_result"
    }
   ],
   "source": [
    "get_index(data_list, \"Derrick\") == 708"
   ]
  },
  {
   "cell_type": "code",
   "execution_count": 20,
   "metadata": {},
   "outputs": [
    {
     "name": "stdout",
     "output_type": "stream",
     "text": [
      "None\n"
     ]
    }
   ],
   "source": [
    "print(data_list[708])"
   ]
  },
  {
   "cell_type": "code",
   "execution_count": 22,
   "metadata": {},
   "outputs": [],
   "source": [
    "MAX_HASH_TABLE_SIZE = 4096\n",
    "\n",
    "data_list2 = [None] * MAX_HASH_TABLE_SIZE"
   ]
  },
  {
   "cell_type": "code",
   "execution_count": 25,
   "metadata": {},
   "outputs": [
    {
     "data": {
      "text/plain": [
       "(655, 655)"
      ]
     },
     "execution_count": 25,
     "metadata": {},
     "output_type": "execute_result"
    }
   ],
   "source": [
    "get_index(data_list2,'listen'), get_index(data_list2,'silent')"
   ]
  },
  {
   "cell_type": "code",
   "execution_count": 26,
   "metadata": {},
   "outputs": [],
   "source": [
    "data_list2[get_index(data_list2,'silent')] = ('silent','999999')"
   ]
  },
  {
   "cell_type": "code",
   "execution_count": 28,
   "metadata": {},
   "outputs": [
    {
     "data": {
      "text/plain": [
       "655"
      ]
     },
     "execution_count": 28,
     "metadata": {},
     "output_type": "execute_result"
    }
   ],
   "source": [
    "get_valid_index(data_list2,'silent')"
   ]
  },
  {
   "cell_type": "code",
   "execution_count": 129,
   "metadata": {},
   "outputs": [],
   "source": [
    "class HashTable:\n",
    "\n",
    "    def __init__(self, max_size=4096):\n",
    "        self.size = max_size\n",
    "        self.data_list = [None] * self.size\n",
    "        self.num_used = 0\n",
    "\n",
    "    def get_index(self, data_list, a_string):\n",
    "    # variable to save result of iteration\n",
    "        result = 0\n",
    "        for a_character in a_string:\n",
    "            # convert character to number using ord() statement\n",
    "            a_number = ord(a_character)\n",
    "            # update result by adding number\n",
    "            result += a_number\n",
    "            # list index number based on size of list\n",
    "        list_index = result % len(data_list)\n",
    "        return list_index   \n",
    "\n",
    "    def insert(self, key, value):\n",
    "        index = self.get_index(self.data_list, key)\n",
    "        self.data_list[index] = (key, value)\n",
    "        self.num_used += 1\n",
    "\n",
    "    def update(self,key,value):\n",
    "        index = self.get_index(self.data_list,key)\n",
    "        self.data_list[index] = (key,value)\n",
    "\n",
    "    def find(self, key):\n",
    "        idx = get_index(self.data_list,key) \n",
    "        kv = self.data_list[idx]\n",
    "        if kv is None:\n",
    "            return None\n",
    "        else: key, value = kv\n",
    "        return value\n",
    "\n",
    "    def list_all(self):\n",
    "        keys  = [kv for kv in self.data_list if kv is not None]\n",
    "        return keys\n",
    "\n",
    "    def __iter__(self):\n",
    "        #return (self.list_all())\n",
    "        return (x for x in self.list_all() if x is not None)\n",
    "\n",
    "    def __repr__(self):\n",
    "        return \"(HashTable(size={},used={}))\".format(self.size,self.num_used)\n",
    "\n",
    "    def __str__(self) -> str:\n",
    "        return self.__repr__()   \n",
    "\n",
    "    def __setitem__(self, key, value):\n",
    "        if self.find(key) is None:\n",
    "            self.insert(key, value)\n",
    "        self.update(key,value)\n",
    "\n",
    "    def __getitem__(self,key):\n",
    "        return self.find(key)\n",
    "        \n",
    "    def __len__(self):\n",
    "        return (len(self.data_list))"
   ]
  },
  {
   "cell_type": "code",
   "execution_count": 163,
   "metadata": {},
   "outputs": [],
   "source": [
    "class ProbingHashTable:\n",
    "\n",
    "    def __init__(self, max_size=4069):\n",
    "        self.size = max_size\n",
    "        self.data_list = [None] * self.size\n",
    "        self.num_used = 0\n",
    "\n",
    "    def gen_list_index(self, data_list, a_string):\n",
    "    # variable to save result of iteration\n",
    "        result = 0\n",
    "        for a_character in a_string:\n",
    "            # convert character to number using ord() statement\n",
    "            a_number = ord(a_character)\n",
    "            # update result by adding number\n",
    "            result += a_number\n",
    "            # list index number based on size of list\n",
    "        list_index = result % len(self.data_list)\n",
    "        return list_index\n",
    "\n",
    "    # Check whether list index already has key value in its place (colision)\n",
    "    def get_valid_index(self, data_list, key):\n",
    "        idx = self.gen_list_index(self.data_list, key)\n",
    "        while True:\n",
    "            kv = self.data_list[idx]\n",
    "            if kv is None:\n",
    "                return idx\n",
    "            k,v = kv\n",
    "            if k == key:\n",
    "                return idx\n",
    "            idx += 1\n",
    "            if idx == len(self.data_list):\n",
    "                idx = 0\n",
    "\n",
    "    def insert(self, key, value):\n",
    "        idx = self.get_valid_index(self.data_list, key)\n",
    "        self.data_list[idx] = (key,value)\n",
    "        self.num_used += 1\n",
    "\n",
    "    def update(self, key, value):\n",
    "        idx = self.get_valid_index(self.data_list, key)\n",
    "        self.data_list[idx] = (key,value)\n",
    "\n",
    "    def find(self, key):\n",
    "        idx = self.get_valid_index(self.data_list, key)\n",
    "        kv = self.data_list[idx]\n",
    "        if kv is None:\n",
    "            return None\n",
    "        k,v = kv\n",
    "        return v\n",
    "\n",
    "    def list_all(self):\n",
    "        keys = [kv for kv in self.data_list if kv is not None]\n",
    "        return keys\n",
    "\n",
    "    def __setitem__(self, key, value):\n",
    "        if self.find(key) is None:\n",
    "             self.insert(key,value)\n",
    "        self.update(key,value)\n",
    "\n",
    "    def __iter__(self):\n",
    "        return (x for x in self.list_all())\n",
    "\n",
    "    def __getitem__(self, key):\n",
    "        return self.find(key)\n",
    "\n",
    "    def __repr__(self) -> str:\n",
    "        return \"ProbingHashTable(size={},num_used={})\".format(self.size,self.num_used)\n",
    "\n",
    "    def __str__(self) -> str:\n",
    "        return (self.__repr__())\n",
    "\n",
    "    def __len__(self):\n",
    "        return (len(self.data_list))\n"
   ]
  },
  {
   "cell_type": "code",
   "execution_count": 164,
   "metadata": {},
   "outputs": [],
   "source": [
    "basic_table = None\n",
    "basic_table = ProbingHashTable(1024)"
   ]
  },
  {
   "cell_type": "code",
   "execution_count": 156,
   "metadata": {},
   "outputs": [
    {
     "data": {
      "text/plain": [
       "True"
      ]
     },
     "execution_count": 156,
     "metadata": {},
     "output_type": "execute_result"
    }
   ],
   "source": [
    "len(basic_table)==1024"
   ]
  },
  {
   "cell_type": "code",
   "execution_count": 165,
   "metadata": {},
   "outputs": [],
   "source": [
    "basic_table['silent'] = '678-888-9999'\n",
    "basic_table['listen'] = '342-896-1471'\n",
    "basic_table['Pernell'] = '111-222-4444'"
   ]
  },
  {
   "cell_type": "code",
   "execution_count": 171,
   "metadata": {},
   "outputs": [],
   "source": [
    "basic_table['silent'] = '678-333-3333'"
   ]
  },
  {
   "cell_type": "code",
   "execution_count": null,
   "metadata": {},
   "outputs": [],
   "source": [
    "basic_table.list_all()"
   ]
  },
  {
   "cell_type": "code",
   "execution_count": null,
   "metadata": {},
   "outputs": [],
   "source": [
    "len(basic_table)"
   ]
  },
  {
   "cell_type": "code",
   "execution_count": null,
   "metadata": {},
   "outputs": [],
   "source": [
    "for kv in basic_table:\n",
    "    print(kv)"
   ]
  },
  {
   "cell_type": "code",
   "execution_count": 76,
   "metadata": {},
   "outputs": [],
   "source": [
    "probing_table = ProbingHashTable(max_size=1024)"
   ]
  },
  {
   "cell_type": "code",
   "execution_count": null,
   "metadata": {},
   "outputs": [],
   "source": [
    "len(probing_table)"
   ]
  },
  {
   "cell_type": "code",
   "execution_count": 79,
   "metadata": {},
   "outputs": [],
   "source": [
    "probing_table.insert('listen','888888')\n"
   ]
  },
  {
   "cell_type": "code",
   "execution_count": null,
   "metadata": {},
   "outputs": [],
   "source": [
    "probing_table.find('listen')"
   ]
  },
  {
   "cell_type": "code",
   "execution_count": null,
   "metadata": {},
   "outputs": [],
   "source": [
    "def fibanaci(n):\n",
    "  if n == 0:\n",
    "    return 0\n",
    "  if n == 1:\n",
    "    return 1\n",
    "  # table for tabulation\n",
    "  table = [None] * (n+1) \n",
    "  table[0] = 0        # base case 1, fib(0) = 0\n",
    "  table[1] = 1        # base case 2, fib(1) = 1\n",
    "  # filling up tabulation table starting from 2 and going upto n\n",
    "  for i in range(2,n+1):  \n",
    "    # we have result of i-1 and i-2 available because these had been evaluated already\n",
    "    table[i] = table[i-1] + table[i-2]\n",
    "    print(table)  \n",
    "  # return the value of n in tabulation table\n",
    "  return table[n]    \n",
    "\n",
    "print(fibanaci(10))"
   ]
  }
 ],
 "metadata": {
  "interpreter": {
   "hash": "fc83aee89678d9b71393865b73fef42c64e33515d7ab78ef977dcb1be64f829a"
  },
  "kernelspec": {
   "display_name": "Python 3.9.7 64-bit ('mfpp': venv)",
   "name": "python3"
  },
  "language_info": {
   "codemirror_mode": {
    "name": "ipython",
    "version": 3
   },
   "file_extension": ".py",
   "mimetype": "text/x-python",
   "name": "python",
   "nbconvert_exporter": "python",
   "pygments_lexer": "ipython3",
   "version": "3.9.7"
  },
  "orig_nbformat": 4
 },
 "nbformat": 4,
 "nbformat_minor": 2
}
