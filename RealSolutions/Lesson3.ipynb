{
 "cells": [
  {
   "cell_type": "markdown",
   "metadata": {},
   "source": [
    "## <font color=lime>Sort Divide and Conquer</font>"
   ]
  },
  {
   "cell_type": "code",
   "execution_count": 1,
   "metadata": {},
   "outputs": [],
   "source": [
    "test0 = { 'input':{'nums':[2,5,2,3,7,8,1,4,5,10]},'output':[1,2,2,3,4,5,5,7,8,10] }\n",
    "\n",
    "test1 = { 'input':{'nums':[6,1,3,4,2,5,7,9,8,10]},'output':[1,2,3,4,5,6,7,8,9,10] }\n",
    "\n",
    "test2 = { 'input':{'nums':[10,9,8,7,6,5,4,3,2,1]},'output':[1,2,3,4,5,6,7,8,9,10] }\n",
    "\n",
    "test3 = { 'input':{'nums':[8]},'output':  -1 }\n",
    "\n",
    "test4 = { 'input':{'nums':[]},'output':  -1 }\n",
    "\n",
    "import random\n",
    "\n",
    "in_list = list(range(10000))\n",
    "out_list = list(range(10000))\n",
    "random.shuffle(in_list)\n",
    "\n",
    "test5 = { 'input':{'nums':  in_list},'output':  out_list }\n",
    "\n"
   ]
  },
  {
   "cell_type": "code",
   "execution_count": null,
   "metadata": {},
   "outputs": [],
   "source": [
    "in_list[10]"
   ]
  },
  {
   "cell_type": "code",
   "execution_count": 3,
   "metadata": {},
   "outputs": [],
   "source": [
    "test_cases = [test0,test1,test2,test3,test4,test5]"
   ]
  },
  {
   "cell_type": "code",
   "execution_count": 4,
   "metadata": {},
   "outputs": [],
   "source": [
    "def bubble_sort(nums):\n",
    "    \n",
    "    nums = list(nums)\n",
    "\n",
    "    for _ in range(len(nums)-1):\n",
    "        for i in range(len(nums)-1):\n",
    "            if nums[i] > nums[i+1]:\n",
    "                nums[i],nums[i+1] = nums[i+1], nums[i]\n",
    "    return nums"
   ]
  },
  {
   "cell_type": "code",
   "execution_count": null,
   "metadata": {},
   "outputs": [],
   "source": [
    "bubble_sort(in_list)"
   ]
  },
  {
   "cell_type": "code",
   "execution_count": 6,
   "metadata": {},
   "outputs": [],
   "source": [
    "def insertion_sort(nums):\n",
    "    nums = list(nums)\n",
    "    for i in range(len(nums)):\n",
    "        #print(i)\n",
    "        cur = nums.pop(i)\n",
    "        j = i-1\n",
    "        #print(\"cur:\",cur, \" j:\",j,\" nums[j]:\", nums[j])\n",
    "        while j >= 0 and nums[j] > cur:\n",
    "            j -= 1\n",
    "        nums.insert(j+1,cur)\n",
    "    return nums\n",
    "\n"
   ]
  },
  {
   "cell_type": "code",
   "execution_count": null,
   "metadata": {},
   "outputs": [],
   "source": [
    "#listuuu = [8,3,6,2]\n",
    "#listuuu2 = [1,2,3,4]\n",
    "\n",
    "insertion_sort(in_list)\n"
   ]
  },
  {
   "cell_type": "code",
   "execution_count": 10,
   "metadata": {},
   "outputs": [],
   "source": [
    "def merge_2_sorted_list(nums1, nums2, depth=0):\n",
    "    \n",
    "    \n",
    "    i, j, sorted_list = 0,0,[]\n",
    "    print('  '*depth,\"merge_2_sorted_list: \",nums1,nums2)\n",
    "\n",
    "    while i < len(nums1) and j < len(nums2):\n",
    "        if nums1[i] <= nums2[j]:\n",
    "            sorted_list.append(nums1[i])\n",
    "            i += 1\n",
    "        else:\n",
    "            sorted_list.append(nums2[j])\n",
    "            j += 1\n",
    "    \n",
    "    remainder_nums1 = nums1[i:]\n",
    "    remainder_nums2 = nums2[j:]\n",
    "\n",
    "    return sorted_list + remainder_nums1 + remainder_nums2\n",
    "\n",
    "def merge_sort(nums,depth=0):\n",
    "    print('  '*depth,\"merge_sort: \", nums)\n",
    "    if len(nums) <= 1:\n",
    "        return nums\n",
    "\n",
    "    mid = len(nums) // 2\n",
    "    \n",
    "    #left = nums[:mid]\n",
    "    #right = nums[mid:]\n",
    "\n",
    "    #left_sorted , right_sorted = merge_sort(left), merge_sort(right)\n",
    "\n",
    "    return merge_2_sorted_list(merge_sort(nums[:mid],depth+1), merge_sort(nums[mid:],depth+1))\n"
   ]
  },
  {
   "cell_type": "code",
   "execution_count": 91,
   "metadata": {},
   "outputs": [],
   "source": [
    "in_list2 = list(range(10))\n",
    "random.shuffle(in_list2)\n",
    "\n"
   ]
  },
  {
   "cell_type": "code",
   "execution_count": null,
   "metadata": {},
   "outputs": [],
   "source": [
    "in_list2[:10]"
   ]
  },
  {
   "cell_type": "code",
   "execution_count": null,
   "metadata": {},
   "outputs": [],
   "source": [
    "merge_sort(in_list2)"
   ]
  },
  {
   "cell_type": "code",
   "execution_count": 1,
   "metadata": {},
   "outputs": [],
   "source": [
    "def partition(nums,start=0,end=None):\n",
    "\n",
    "    #print('partition', nums,start,end)\n",
    "    if end is None:\n",
    "        end = len(nums)-1\n",
    "\n",
    "    # initialize left and right pointer\n",
    "    l, r = start, end-1\n",
    "\n",
    "    while l < r:\n",
    "        #print('  ',nums,l,r)\n",
    "        #Increment left pointer if number is less than or equal to pivot\n",
    "        if nums[l] <= nums[end]:\n",
    "            l += 1\n",
    "        #Decrement right pointer if number is > than pivot\n",
    "        elif nums[r] > nums[end]:\n",
    "            r -= 1\n",
    "        else:\n",
    "            #Two out of place numbers found swap them\n",
    "            nums[l],nums[r] = nums[r],nums[l]\n",
    "            #print('  ',nums,l,r)\n",
    "    #Place the pivot between the 2 parts\n",
    "    if nums[l] > nums[end]:\n",
    "        nums[l],nums[end] = nums[end], nums[l] \n",
    "        return l\n",
    "    else:\n",
    "        return end   \n",
    "\n"
   ]
  },
  {
   "cell_type": "code",
   "execution_count": 2,
   "metadata": {},
   "outputs": [],
   "source": [
    "def quick_sort(nums,start=0,end=None):\n",
    "\n",
    "    if end is None:\n",
    "        nums = list(nums)\n",
    "        end = len(nums)-1\n",
    "    \n",
    "    if start < end:\n",
    "        pivot = partition(nums,start,end)\n",
    "        quick_sort(nums, start, pivot-1)  \n",
    "        quick_sort(nums, pivot+1, end)\n",
    "    return nums\n",
    "    "
   ]
  },
  {
   "cell_type": "code",
   "execution_count": 5,
   "metadata": {},
   "outputs": [],
   "source": [
    "import random"
   ]
  },
  {
   "cell_type": "code",
   "execution_count": null,
   "metadata": {},
   "outputs": [],
   "source": [
    "in_list3 = list(range(1000000))\n",
    "random.shuffle(in_list3)\n",
    "in_list3[:10]\n",
    "\n",
    "#test5 = { 'input':{'nums':  in_list},'output':  out_list }"
   ]
  },
  {
   "cell_type": "code",
   "execution_count": null,
   "metadata": {},
   "outputs": [],
   "source": [
    "\n",
    "quick_sort(in_list3)"
   ]
  },
  {
   "cell_type": "code",
   "execution_count": 33,
   "metadata": {},
   "outputs": [],
   "source": [
    "class NoteBook:\n",
    "\n",
    "    def __init__(self,title, username, likes):\n",
    "        self.title , self.username, self.likes = title,username,likes\n",
    "\n",
    "    def __repr__(self):\n",
    "        return \"NoteBook.<-{}/{}, {} likes->\".format(self.title, self.username, self.likes)"
   ]
  },
  {
   "cell_type": "code",
   "execution_count": 34,
   "metadata": {},
   "outputs": [],
   "source": [
    "note0 = NoteBook('Python-Programming','dhen35','355')\n",
    "note1 = NoteBook('Linear-Regression','rDogP','701')\n",
    "note2 = NoteBook('Class-Creation','lulmer','135')\n",
    "notebooks = [note0,note1,note2]"
   ]
  },
  {
   "cell_type": "code",
   "execution_count": 49,
   "metadata": {},
   "outputs": [],
   "source": [
    "def compare_likes(nb1, nb2):\n",
    "    # notice the > sign we return lesser makes the list descending\n",
    "    if nb1.likes > nb2.likes:\n",
    "        return 'lesser'\n",
    "    elif nb1.likes == nb2.likes:\n",
    "        return 'equal'\n",
    "    elif nb1.likes < nb2.likes:\n",
    "        return 'greater'\n",
    "\n",
    "def compare_titles(nb1, nb2):\n",
    "    # notice the > sign we return lesser makes the list descending\n",
    "    if nb1.title > nb2.title:\n",
    "        return 'lesser'\n",
    "    elif nb1.title == nb2.title:\n",
    "        return 'equal'\n",
    "    elif nb1.title < nb2.title:\n",
    "        return 'greater'\n",
    "\n",
    "def default_compare(x, y):\n",
    "    if x < y:\n",
    "        return 'lesser'\n",
    "    elif x == y:\n",
    "        return 'equal'\n",
    "    elif x > y:\n",
    "        return 'greater'\n",
    "        "
   ]
  },
  {
   "cell_type": "code",
   "execution_count": 46,
   "metadata": {},
   "outputs": [],
   "source": [
    "def merge_sort(objs, compare=default_compare):   \n",
    "    \n",
    "    if len(objs) < 2:\n",
    "        return objs\n",
    "    mid = len(objs) // 2 \n",
    "    #print('  '*depth,\"merge_2_sorted_list: \",nums1,nums2)\n",
    "\n",
    "    return merge(merge_sort(objs[:mid], compare), merge_sort(objs[mid:], compare), compare)\n",
    "\n",
    "def merge(left, right, compare, depth=0):\n",
    "    \n",
    "    i, j, merged = 0,0,[]\n",
    "    print('  '*depth,\"merge_sort function: \",left, right)\n",
    "\n",
    "    while i < len(left) and j < len(right):\n",
    "        result = compare(left[i], right[j])\n",
    "        if result == 'lesser' or result == 'equal':\n",
    "            merged.append(left[i])\n",
    "            i += 1\n",
    "        else:\n",
    "            merged.append(right[j])\n",
    "            j += 1\n",
    "    \n",
    "    remainder_nums1 = left[i:]\n",
    "    remainder_nums2 = right[j:]\n",
    "\n",
    "    return merged + remainder_nums1 + remainder_nums2\n",
    "\n",
    "\n"
   ]
  },
  {
   "cell_type": "code",
   "execution_count": null,
   "metadata": {},
   "outputs": [],
   "source": [
    "sortednotebooks = merge_sort(notebooks,compare_titles)\n",
    "\n",
    "sortednotebooks"
   ]
  }
 ],
 "metadata": {
  "interpreter": {
   "hash": "fc83aee89678d9b71393865b73fef42c64e33515d7ab78ef977dcb1be64f829a"
  },
  "kernelspec": {
   "display_name": "Python 3.9.7 64-bit ('mfpp': venv)",
   "name": "python3"
  },
  "language_info": {
   "codemirror_mode": {
    "name": "ipython",
    "version": 3
   },
   "file_extension": ".py",
   "mimetype": "text/x-python",
   "name": "python",
   "nbconvert_exporter": "python",
   "pygments_lexer": "ipython3",
   "version": "3.9.7"
  },
  "orig_nbformat": 4
 },
 "nbformat": 4,
 "nbformat_minor": 2
}
