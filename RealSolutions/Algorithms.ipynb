{
 "cells": [
  {
   "cell_type": "code",
   "execution_count": null,
   "metadata": {},
   "outputs": [],
   "source": [
    "import numpy as np "
   ]
  },
  {
   "cell_type": "code",
   "execution_count": null,
   "metadata": {},
   "outputs": [],
   "source": [
    "testcases = []\n",
    "\n",
    "test = {\n",
    "         \"input\":{\"cards\": [13,11,10,7,4,3,1,0],\"cardnumber\": 7},\n",
    "         \"expout\": 3}\n",
    "\n",
    "#query somewhere in the middle\n",
    "testcases.append(test)\n",
    "\n",
    "# close to end\n",
    "testcases.append({\n",
    "         \"input\":{\"cards\": [13,11,10,7,4,3,1,0],\"cardnumber\": 1},\n",
    "         \"expout\": 6})\n",
    "\n",
    "# query is the first element\n",
    "testcases.append({\n",
    "         \"input\":{\"cards\": [4,2,1,-1],\"cardnumber\": 4},\n",
    "         \"expout\": 0})\n",
    "\n",
    "# query is the last element\n",
    "testcases.append({\n",
    "         \"input\":{\"cards\": [3,-1,-9,-127],\"cardnumber\": -127},\n",
    "         \"expout\": 3})\n",
    "\n",
    "# cards contain only one element\n",
    "testcases.append({\n",
    "         \"input\":{\"cards\": [6],\"cardnumber\": 6},\n",
    "         \"expout\": 0})\n",
    "\n",
    "         # cards contain only one element\n",
    "testcases.append({\n",
    "         \"input\":{\"cards\": [8],\"cardnumber\": 6},\n",
    "         \"expout\": -1})\n",
    "\n",
    "# cards do not contain query\n",
    "testcases.append({\n",
    "         \"input\":{\"cards\": [9,7,5,2,-9],\"cardnumber\": 4},\n",
    "         \"expout\": -1})\n",
    "\n",
    "# cards empty - no cards\n",
    "testcases.append({\n",
    "         \"input\":{\"cards\": [],\"cardnumber\": 7},\n",
    "         \"expout\": -1})\n",
    "\n",
    "# cards numbers repeat\n",
    "testcases.append({\n",
    "         \"input\":{\"cards\": [8,8,6,6,6,6,6,3,2,2,2,0,0,0],\"cardnumber\": 3},\n",
    "         \"expout\": 7})\n",
    "\n",
    "# when query occurs multiple times\n",
    "testcases.append({\n",
    "         \"input\":{\"cards\": [8,8,6,6,6,6,6,3,2,2,2,0,0,0],\"cardnumber\": 6},\n",
    "         \"expout\": 2})\n",
    "\n"
   ]
  },
  {
   "cell_type": "code",
   "execution_count": null,
   "metadata": {},
   "outputs": [],
   "source": [
    "print(testcases[6][\"expout\"])"
   ]
  },
  {
   "cell_type": "markdown",
   "metadata": {},
   "source": [
    "## <font color=lime>Linear Search ---- Brute force method</font>\n",
    "* <font color=pink>turning each card over starting from the first card</font>"
   ]
  },
  {
   "cell_type": "code",
   "execution_count": null,
   "metadata": {},
   "outputs": [],
   "source": [
    "def locate_card(cards, cardnumber, expout):\n",
    "    position = 0\n",
    "    print(\"cards: \",cards)\n",
    "    print(\"cardnumber: \", cardnumber)\n",
    "    print(\"expected output: \", expout)\n",
    "    #print(\"Expected out: \", expout)\n",
    "    while position < len(cards):\n",
    "        if cards[position] == cardnumber:\n",
    "            return position\n",
    "        position += 1\n",
    "    return -1"
   ]
  },
  {
   "cell_type": "code",
   "execution_count": null,
   "metadata": {},
   "outputs": [],
   "source": [
    "for test in testcases:\n",
    "    print(locate_card(**test[\"input\"], expout=test[\"expout\"])==test[\"expout\"])\n",
    "    "
   ]
  },
  {
   "cell_type": "markdown",
   "metadata": {},
   "source": [
    "## <font color=lime>Linear Search - Optimized</font>"
   ]
  },
  {
   "cell_type": "code",
   "execution_count": null,
   "metadata": {},
   "outputs": [],
   "source": [
    "def test_location(cards, cardnumber, middlecardindex):\n",
    "    middle_card_number = cards[middlecardindex]\n",
    "    print(\"tl_midcardindex:\", middlecardindex, \"\\ntl_mid_number:\", middle_card_number)\n",
    "    if middle_card_number == cardnumber and len(cards) == 1:\n",
    "        return \"found\"\n",
    "\n",
    "    if middle_card_number == cardnumber and len(cards) > 1:\n",
    "        if middlecardindex-1 >= 0 and cards[middlecardindex-1]==cardnumber:\n",
    "            return \"left\"\n",
    "        else:\n",
    "            return \"found\"\n",
    "    elif middle_card_number < cardnumber:\n",
    "        return \"left\"\n",
    "    elif middle_card_number > cardnumber:\n",
    "        return \"right\" \n",
    "     \n",
    "def locate_card_v2(cards, cardnumber, expout):\n",
    "    low,  high = 0, len(cards)-1\n",
    "    print(\"Cards:\", cards)\n",
    "    print(\"Search card:\", cardnumber)\n",
    "    print(\"Expected out:\", expout) \n",
    "    while low <= high:\n",
    "         midcardindex = (low + high) // 2\n",
    "         middle_card_number = cards[midcardindex]\n",
    "         print(\"low:\", low ,\" high:\",high, \" mid card index:\", midcardindex, \" Middlecard number:\", middle_card_number)\n",
    "         result = test_location(cards, cardnumber, midcardindex)\n",
    "         print(result)\n",
    "         if result == \"found\":\n",
    "            return midcardindex\n",
    "         elif result == \"left\":\n",
    "            high = midcardindex - 1\n",
    "         elif result == \"right\":\n",
    "            low = midcardindex + 1\n",
    "    return -1"
   ]
  },
  {
   "cell_type": "code",
   "execution_count": null,
   "metadata": {},
   "outputs": [],
   "source": [
    "print(locate_card_v2(**testcases[1][\"input\"], expout=testcases[1][\"expout\"])== testcases[1][\"expout\"])\n",
    "print(locate_card_v2(**testcases[4][\"input\"], expout=testcases[4][\"expout\"])== testcases[4][\"expout\"])\n",
    "print(locate_card_v2(**testcases[5][\"input\"], expout=testcases[5][\"expout\"])== testcases[5][\"expout\"])"
   ]
  },
  {
   "cell_type": "markdown",
   "metadata": {},
   "source": [
    "## <font color=lime>Linear Search - Optimized w/o Logging</font>\n",
    "* <font color=pink>no print statements</font>"
   ]
  },
  {
   "cell_type": "code",
   "execution_count": null,
   "metadata": {},
   "outputs": [],
   "source": [
    "def test_location(cards, cardnumber, middlecardindex):\n",
    "    middle_card_number = cards[middlecardindex]\n",
    "    if middle_card_number == cardnumber and len(cards) == 1:\n",
    "        return \"found\"\n",
    "\n",
    "    if middle_card_number == cardnumber and len(cards) > 1:\n",
    "        if middlecardindex-1 >= 0 and cards[middlecardindex-1]==cardnumber:\n",
    "            return \"left\"\n",
    "        else:\n",
    "            return \"found\"\n",
    "    elif middle_card_number < cardnumber:\n",
    "        return \"left\"\n",
    "    elif middle_card_number > cardnumber:\n",
    "        return \"right\" \n",
    " \n",
    "     \n",
    "def locate_card_v2_nolog(cards, cardnumber, expout):\n",
    "    low,  high = 0, len(cards)-1\n",
    "    while low <= high:\n",
    "         cardindex = (low + high) // 2\n",
    "         result = test_location(cards, cardnumber, cardindex)\n",
    "         middle_card_number = cards[cardindex]\n",
    "         if result == \"found\":\n",
    "            return cardindex\n",
    "         elif result == \"left\":\n",
    "            high = cardindex - 1\n",
    "         elif result == \"right\":\n",
    "           low = cardindex + 1\n",
    "    return -1"
   ]
  },
  {
   "cell_type": "code",
   "execution_count": null,
   "metadata": {},
   "outputs": [],
   "source": [
    "for test in testcases:\n",
    "    print(locate_card_v2_nolog(**test[\"input\"], expout=test[\"expout\"])==test[\"expout\"])"
   ]
  },
  {
   "cell_type": "markdown",
   "metadata": {},
   "source": [
    "## <font color=lime>Binary Search</font>"
   ]
  },
  {
   "cell_type": "code",
   "execution_count": null,
   "metadata": {},
   "outputs": [],
   "source": [
    "def binary_search(lo, hi, condition):\n",
    "    while lo <= hi:\n",
    "         mid = (lo + hi) // 2\n",
    "         result = condition(mid)\n",
    "         print(\"lo:\",lo,\" hi:\",hi)\n",
    "         print(\"bs middle card index: \", mid)\n",
    "         print(\"bs condition result: \", result)\n",
    "         if result == \"found\":\n",
    "            return mid\n",
    "         elif result == \"left\":\n",
    "            hi = mid-1\n",
    "         else:\n",
    "            lo = mid+1\n",
    "    return -1\n",
    "\n",
    "def locate_card_v3(cards, cardnumber, expout):\n",
    "    print(\"Cards:\", cards)\n",
    "    print(\"Search card:\", cardnumber)\n",
    "    print(\"Expected out:\", expout) \n",
    "    def condition(mid):\n",
    "        middle_card_number = cards[mid]\n",
    "        print(\"lc_midcardindex:\", mid, \"\\nlc_mid_number:\", middle_card_number)\n",
    "        if middle_card_number == cardnumber and len(cards)-1 == 1:\n",
    "          return \"found\"\n",
    "        if middle_card_number == cardnumber and len(cards)-1 > 1:\n",
    "             if mid-1 >= 0 and cards[mid-1]==cardnumber:\n",
    "               return \"left\"\n",
    "             else:\n",
    "               return \"found\"\n",
    "        elif middle_card_number < cardnumber:\n",
    "              return \"left\"\n",
    "        elif middle_card_number > cardnumber:\n",
    "              return \"right\" \n",
    "    \n",
    "    return binary_search(0, len(cards)-1, condition)"
   ]
  },
  {
   "cell_type": "code",
   "execution_count": null,
   "metadata": {},
   "outputs": [],
   "source": [
    "print(locate_card_v3(**testcases[1][\"input\"], expout=testcases[1][\"expout\"]))\n",
    "print(\"\")\n",
    "print(locate_card_v3(**testcases[1][\"input\"], expout=testcases[1][\"expout\"])== testcases[1][\"expout\"])"
   ]
  },
  {
   "cell_type": "markdown",
   "metadata": {},
   "source": [
    "## <font color=lime>Binary Search no log</font>"
   ]
  },
  {
   "cell_type": "code",
   "execution_count": null,
   "metadata": {},
   "outputs": [],
   "source": [
    "def binary_search_nolog(lo, hi, condition):\n",
    "    while lo <= hi:\n",
    "         mid = (lo + hi) // 2\n",
    "         result = condition(mid)\n",
    "         if result == \"found\":\n",
    "            return mid\n",
    "         elif result == \"left\":\n",
    "            hi = mid-1\n",
    "         else:\n",
    "            lo = mid+1\n",
    "    return -1\n",
    "\n",
    "def locate_card_v3_nolog(cards, cardnumber, expout):\n",
    "    #function inside a function --- function closure\n",
    "    def condition(mid):\n",
    "        middle_card_number = cards[mid]\n",
    "        if middle_card_number == cardnumber and len(cards)-1 == 1:\n",
    "          return \"found\"\n",
    "        if middle_card_number == cardnumber and len(cards)-1 > 1:\n",
    "             if mid-1 >= 0 and cards[mid-1]==cardnumber:\n",
    "               return \"left\"\n",
    "             else:\n",
    "               return \"found\"\n",
    "        elif middle_card_number < cardnumber:\n",
    "              return \"left\"\n",
    "        elif middle_card_number > cardnumber:\n",
    "              return \"right\" \n",
    "    return binary_search_nolog(0, len(cards)-1, condition)"
   ]
  },
  {
   "cell_type": "code",
   "execution_count": null,
   "metadata": {},
   "outputs": [],
   "source": [
    "for test in testcases:\n",
    "  print(locate_card_v3_nolog(**test[\"input\"], expout=test[\"expout\"])==test[\"expout\"])\n",
    "\n",
    "#print(locate_card4(**testcases[5][\"input\"], expout=testcases[5][\"expout\"])== testcases[5][\"expout\"])"
   ]
  },
  {
   "cell_type": "markdown",
   "metadata": {},
   "source": [
    "## <font color=lime>Binary Search last and first position</font>\n",
    "* <font color=pink>Descending number list</font>"
   ]
  },
  {
   "cell_type": "code",
   "execution_count": null,
   "metadata": {},
   "outputs": [],
   "source": [
    "def binary_search_1stlst_pos(lo, hi, condition):\n",
    "    while lo <= hi:\n",
    "         mid = (lo + hi) // 2\n",
    "         result = condition(mid)\n",
    "         if result == \"found\":\n",
    "            return mid\n",
    "         elif result == \"left\":\n",
    "            hi = mid-1\n",
    "         else:\n",
    "            lo = mid+1\n",
    "    return -1\n",
    "\n",
    "def first_position(nums, target):\n",
    "    \n",
    "    def condition(mid):\n",
    "        print(\"nums mid: \", mid)\n",
    "        print(\"numbers: \", nums)\n",
    "        print(\"target: \", target)\n",
    "        if nums[mid] == target:\n",
    "          if mid > 0 and nums[mid-1]==target:\n",
    "               return \"left\"\n",
    "          return \"found\"\n",
    "        elif nums[mid] < target:\n",
    "            return \"right\"\n",
    "        else: \n",
    "            return \"left\"\n",
    "    return binary_search_1stlst_pos(0, len(nums)-1, condition)\n",
    "\n",
    "\n",
    "def last_position(nums, target):\n",
    "    \n",
    "    def condition(mid):\n",
    "        if nums[mid] == target:\n",
    "          if mid < len(nums)-1 and nums[mid+1]==target:\n",
    "               return \"right\"\n",
    "          return \"found\"\n",
    "        elif nums[mid] < target:\n",
    "            return \"right\"\n",
    "        else: \n",
    "            return \"left\"\n",
    "    return binary_search_1stlst_pos(0, len(nums)-1, condition)\n",
    "\n",
    "def first_and_last_position(nums, target):\n",
    "      return first_position(nums,target), last_position(nums,target)\n"
   ]
  },
  {
   "cell_type": "code",
   "execution_count": null,
   "metadata": {},
   "outputs": [],
   "source": [
    "class Solultion:\n",
    "    def SearchRange(self, nums: list[int], target:int) -> list[int]:\n",
    "      return first_and_last_position(nums,target)"
   ]
  },
  {
   "cell_type": "code",
   "execution_count": null,
   "metadata": {},
   "outputs": [],
   "source": [
    "mm = Solultion()\n",
    "mm.SearchRange(nums=[8,8,6,6,6,6,6,3,2,2,2,0,0,0],target=6)\n",
    "\n",
    "#print(Solultion.SearchRange(nums=[8,8,6,6,6,6,6,3,2,2,2,0,0,0],target=6))"
   ]
  },
  {
   "cell_type": "code",
   "execution_count": null,
   "metadata": {},
   "outputs": [],
   "source": [
    "cases = []\n",
    "cases.append({\n",
    "         \"input\":{\"nums\": [8,8,6,6,6,6,6,3,2,2,2,0,0,0],\"target\": 6},\n",
    "         \"expout\": 2})\n",
    "cases.append({\n",
    "         \"input\":{\"nums\": [0,0,0,2,2,2,3,6,6,6,6,6,8,8],\"target\": 6},\n",
    "         \"expout\": 2})\n"
   ]
  },
  {
   "cell_type": "code",
   "execution_count": 47,
   "metadata": {},
   "outputs": [
    {
     "name": "stdout",
     "output_type": "stream",
     "text": [
      "nums mid:  6\n",
      "numbers:  [8, 8, 6, 6, 6, 6, 6, 3, 2, 2, 2, 0, 0, 0]\n",
      "target:  6\n",
      "nums mid:  2\n",
      "numbers:  [8, 8, 6, 6, 6, 6, 6, 3, 2, 2, 2, 0, 0, 0]\n",
      "target:  6\n",
      "(2, 6)\n"
     ]
    }
   ],
   "source": [
    "print(first_and_last_position(**cases[0][\"input\"]))\n"
   ]
  }
 ],
 "metadata": {
  "interpreter": {
   "hash": "fc83aee89678d9b71393865b73fef42c64e33515d7ab78ef977dcb1be64f829a"
  },
  "kernelspec": {
   "display_name": "Python 3.9.7 64-bit ('mfpp': venv)",
   "name": "python3"
  },
  "language_info": {
   "codemirror_mode": {
    "name": "ipython",
    "version": 3
   },
   "file_extension": ".py",
   "mimetype": "text/x-python",
   "name": "python",
   "nbconvert_exporter": "python",
   "pygments_lexer": "ipython3",
   "version": "3.9.7"
  },
  "orig_nbformat": 4
 },
 "nbformat": 4,
 "nbformat_minor": 2
}
