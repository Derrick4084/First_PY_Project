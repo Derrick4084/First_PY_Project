{
 "cells": [
  {
   "cell_type": "code",
   "execution_count": 37,
   "metadata": {},
   "outputs": [],
   "source": [
    "class User:\n",
    "    def __init__(self,username,name,email):\n",
    "        self.username = username\n",
    "        self.name = name\n",
    "        self.email = email\n",
    "        print(\"User created successfully welcome {}\".format(self.name))\n",
    "\n",
    "    def introduce_yourself(self, guestname):\n",
    "        print(\"Hi {}, I am {}, I can be reached at {}\".format(guestname,self.name,self.email))\n",
    "\n",
    "    def __repr__(self) -> str:\n",
    "        return \"User(username='{}', name='{}', email='{}')\".format(self.username,self.name,self.email)\n",
    "\n",
    "    def __str__(self) -> str:\n",
    "        return self.__repr__()"
   ]
  },
  {
   "cell_type": "code",
   "execution_count": null,
   "metadata": {},
   "outputs": [],
   "source": [
    "derrick = User(\"dhen35\",\"Derrick\",\"dhen35@comcast.net\")\n",
    "zayna = User(\"zayh27\",\"Zayna\",\"zay123@hotmail.com\")\n",
    "denise = User(\"denise53\",\"Denise\",\"denise@gmail.com\")\n",
    "pernell = User(\"Pman32\",\"Pernell\",\"penuckle@google.net\")\n",
    "jackie = User(\"Jaq44\",\"Jaqueline\",\"jackie.henry@comcast.net\")\n",
    "bill = User(\"billp\",\"Bill\",\"billp@comcast.net\")\n",
    "eddy = User(\"eddyv\",\"Eddy\",\"eddyv@hotmail.com\")\n",
    "asit = User(\"asitj\",\"Asit\",\"asitj@gmail.com\")\n",
    "larry = User(\"larryu\",\"Larry\",\"larryu@google.net\")\n",
    "chris = User(\"chrisg\",\"Chris\",\"chrisg@comcast.net\")\n",
    "quentin = User(\"uncleQ\",\"Quentin\",\"uncleQ@hotmail.com\")\n",
    "\n",
    "#users = [derrick,zayna,denise,pernell,jackie,bill,eddy,asit,larry,chris,quentin]"
   ]
  },
  {
   "cell_type": "markdown",
   "metadata": {},
   "source": [
    "## <font color=lime>TreeMap Class</font>"
   ]
  },
  {
   "cell_type": "code",
   "execution_count": 39,
   "metadata": {},
   "outputs": [],
   "source": [
    "class BSTNode():\n",
    "    def __init__(self, key, value=None):\n",
    "        self.key = key\n",
    "        self.value = value\n",
    "        self.left = None\n",
    "        self.right = None\n",
    "        self.root = None\n",
    "        \n",
    "    def __repr__(self):\n",
    "        return \"({},{})\".format(self.key, self.value)\n",
    "\n",
    "    def __str__(self) -> str:\n",
    "        return self.__repr__()\n"
   ]
  },
  {
   "cell_type": "code",
   "execution_count": 40,
   "metadata": {},
   "outputs": [],
   "source": [
    "bstAsit = BSTNode(asit.name, asit)\n",
    "bstBill = BSTNode(bill.name, bill)\n",
    "bstChris = BSTNode(chris.name, chris)\n",
    "bstDenise = BSTNode(denise.name, denise)\n",
    "bstDerrick = BSTNode(derrick.name, derrick)\n",
    "bstEddy = BSTNode(eddy.name, eddy)\n",
    "bstJackie = BSTNode(jackie.name, jackie)\n",
    "bstLarry = BSTNode(larry.name, larry)\n",
    "bstPernell = BSTNode(pernell.name, pernell)\n",
    "bstQuentin = BSTNode(quentin.name, quentin)\n",
    "bstZayna = BSTNode(zayna.name, zayna)\n",
    "\n",
    "bstUsers = [bstAsit,bstBill,bstChris,bstDenise,bstDerrick,bstEddy,bstJackie,bstLarry,bstPernell,bstQuentin,bstZayna]\n",
    "\n",
    "\n",
    "#data = [(user.key, user) for user in bstUsers]"
   ]
  },
  {
   "cell_type": "code",
   "execution_count": 42,
   "metadata": {},
   "outputs": [],
   "source": [
    "def display_keys(node,space =\"\\t\",level=0):\n",
    "    if node is None:\n",
    "        print(space * level)\n",
    "        return\n",
    "    if node.left is None and node.right is None:\n",
    "        print(space * level + str(node.key))\n",
    "        return\n",
    "    display_keys(node.right,space,level+1)\n",
    "    print(space * level + str(node.key))\n",
    "    display_keys(node.left,space,level+1)\n",
    "\n",
    "def find(node, key):\n",
    "    if node is None:\n",
    "        return None\n",
    "    if key == node.key:\n",
    "        return node\n",
    "    if key < node.key:\n",
    "         return find(node.left, key)\n",
    "    else:\n",
    "         return find(node.right,key)\n",
    "\n",
    "def insert(node, key, value):\n",
    "    if node is None:\n",
    "        node = BSTNode(key, value)\n",
    "    elif key < node.key:\n",
    "        node.left = insert(node.left ,key , value)\n",
    "        node.left.parent = node\n",
    "    elif key > node.key:\n",
    "        node.right = insert(node.right ,key , value)\n",
    "        node.right.parent = node\n",
    "    return node\n",
    "\n",
    "def is_balanced(node):\n",
    "    if node is None:\n",
    "        return True, 0\n",
    "    bal_l, hgt_l = is_balanced(node.left)\n",
    "    bal_r, hgt_r = is_balanced(node.right)\n",
    "\n",
    "    balanced = bal_l and bal_r and abs(hgt_l - hgt_r) <= 1\n",
    "    height = 1 + max(hgt_l,hgt_r)\n",
    "\n",
    "    return balanced, height\n",
    "\n",
    "def list_all_nodes(node):\n",
    "    if node is None:\n",
    "        return []\n",
    "    return list_all_nodes(node.left) + [(node.key, node.value)] + list_all_nodes(node.right)\n",
    "\n",
    "def make_balanced_bst(data, lo=0, hi=None, parent=None):\n",
    "     if hi is None:\n",
    "         hi = len(data)-1\n",
    "     if lo > hi:\n",
    "         return None\n",
    "     mid = (lo + hi) // 2\n",
    "     key,value = data[mid]    \n",
    "     root = BSTNode(key,value)\n",
    "     root.parent = parent\n",
    "     root.left = make_balanced_bst(data, lo, mid-1, root)\n",
    "     root.right = make_balanced_bst(data, mid+1, hi, root)\n",
    "     return root\n",
    "\n",
    "def balance_bst(node):\n",
    "    return make_balanced_bst(list_all_nodes(node))\n",
    "\n",
    "def tree_size(node):\n",
    "    if node is None:\n",
    "        return 0\n",
    "    return 1 + tree_size(node.left) + tree_size(node.right)\n",
    "\n",
    "def update(node,key,value):\n",
    "    target = find(node,key)\n",
    "    if target is not None:\n",
    "      target.value = value  \n"
   ]
  },
  {
   "cell_type": "code",
   "execution_count": 43,
   "metadata": {},
   "outputs": [],
   "source": [
    "class TreeMap():\n",
    "\n",
    "    def __init__(self):\n",
    "        self.root = None\n",
    "\n",
    "    def __setitem__(self, key, value):\n",
    "        node = find(self.root, key)\n",
    "        if not node:\n",
    "            self.root = insert(self.root, key, value)\n",
    "            self.root = balance_bst(self.root)\n",
    "        else:\n",
    "            update(self.root, key, value)\n",
    "\n",
    "    def __getitem__(self, key):\n",
    "        node = find(self.root, key)\n",
    "        return node.value if node else None\n",
    "\n",
    "    def __iter__(self):\n",
    "        return (x for x in list_all_nodes(self.root))\n",
    "\n",
    "    def __len__(self):\n",
    "        return tree_size(self.root)\n",
    "    \n",
    "    def display(self):\n",
    "        return display_keys(self.root)\n",
    "    "
   ]
  },
  {
   "cell_type": "code",
   "execution_count": 44,
   "metadata": {},
   "outputs": [],
   "source": [
    "treemap = None\n",
    "treemap = TreeMap()"
   ]
  },
  {
   "cell_type": "code",
   "execution_count": null,
   "metadata": {},
   "outputs": [],
   "source": [
    "print(treemap.root)\n",
    "print(treemap.display())"
   ]
  },
  {
   "cell_type": "code",
   "execution_count": 47,
   "metadata": {},
   "outputs": [],
   "source": [
    "treemap[bstAsit.key] = bstAsit\n",
    "treemap[bstJackie.key] = bstJackie\n",
    "treemap[bstLarry.key] = bstLarry"
   ]
  },
  {
   "cell_type": "code",
   "execution_count": 49,
   "metadata": {},
   "outputs": [
    {
     "name": "stdout",
     "output_type": "stream",
     "text": [
      "\tLarry\n",
      "Jaqueline\n",
      "\tAsit\n"
     ]
    }
   ],
   "source": [
    "treemap.display()"
   ]
  },
  {
   "cell_type": "code",
   "execution_count": 13,
   "metadata": {},
   "outputs": [],
   "source": [
    "treemap['Pernell'] = bstPernell\n",
    "treemap['Derrick'] = bstDerrick\n",
    "treemap['Zayna'] = bstZayna"
   ]
  },
  {
   "cell_type": "code",
   "execution_count": 15,
   "metadata": {},
   "outputs": [],
   "source": [
    "treemap['Chris'] = bstChris\n",
    "treemap['Denise'] = bstDenise\n",
    "treemap['Quentin'] = bstQuentin\n",
    "treemap['Eddy'] = bstEddy\n",
    "treemap['Bill'] = bstBill\n"
   ]
  },
  {
   "cell_type": "code",
   "execution_count": null,
   "metadata": {},
   "outputs": [],
   "source": [
    "treemap['Jaqueline']"
   ]
  },
  {
   "cell_type": "code",
   "execution_count": null,
   "metadata": {},
   "outputs": [],
   "source": [
    "find(treemap.root,'Derrick')"
   ]
  }
 ],
 "metadata": {
  "interpreter": {
   "hash": "fc83aee89678d9b71393865b73fef42c64e33515d7ab78ef977dcb1be64f829a"
  },
  "kernelspec": {
   "display_name": "Python 3.9.7 64-bit ('mfpp': venv)",
   "name": "python3"
  },
  "language_info": {
   "codemirror_mode": {
    "name": "ipython",
    "version": 3
   },
   "file_extension": ".py",
   "mimetype": "text/x-python",
   "name": "python",
   "nbconvert_exporter": "python",
   "pygments_lexer": "ipython3",
   "version": "3.9.7"
  },
  "orig_nbformat": 4
 },
 "nbformat": 4,
 "nbformat_minor": 2
}
