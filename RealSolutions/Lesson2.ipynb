{
 "cells": [
  {
   "cell_type": "code",
   "execution_count": 1,
   "metadata": {},
   "outputs": [],
   "source": [
    "class User:\n",
    "    def __init__(self,username,name,email):\n",
    "        self.username = username\n",
    "        self.name = name\n",
    "        self.email = email\n",
    "        print(\"User created successfully welcome {}\".format(self.name))\n",
    "\n",
    "    def introduce_yourself(self, guestname):\n",
    "        print(\"Hi {}, I am {}, I can be reached at {}\".format(guestname,self.name,self.email))\n",
    "\n",
    "    def __repr__(self) -> str:\n",
    "        return \"User(username='{}', name='{}', email='{}')\".format(self.username,self.name,self.email)\n",
    "\n",
    "    def __str__(self) -> str:\n",
    "        return self.__repr__()"
   ]
  },
  {
   "cell_type": "code",
   "execution_count": null,
   "metadata": {},
   "outputs": [],
   "source": [
    "derrick = User(\"dhen35\",\"Derrick\",\"dhen35@comcast.net\")\n",
    "zayna = User(\"zayh27\",\"Zayna\",\"zay123@hotmail.com\")\n",
    "denise = User(\"denise53\",\"Denise\",\"denise@gmail.com\")\n",
    "pernell = User(\"Pman32\",\"Pernell\",\"penuckle@google.net\")\n",
    "jackie = User(\"Jaq44\",\"Jaqueline\",\"jackie.henry@comcast.net\")\n",
    "bill = User(\"billp\",\"Bill\",\"billp@comcast.net\")\n",
    "eddy = User(\"eddyv\",\"Eddy\",\"eddyv@hotmail.com\")\n",
    "asit = User(\"asitj\",\"Asit\",\"asitj@gmail.com\")\n",
    "larry = User(\"larryu\",\"Larry\",\"larryu@google.net\")\n",
    "chris = User(\"chrisg\",\"Chris\",\"chrisg@comcast.net\")\n",
    "quentin = User(\"uncleQ\",\"Quentin\",\"uncleQ@hotmail.com\")\n",
    "\n",
    "users = [derrick,zayna,denise,pernell,jackie,bill,eddy,asit,larry,chris,quentin]\n"
   ]
  },
  {
   "cell_type": "code",
   "execution_count": 77,
   "metadata": {},
   "outputs": [],
   "source": [
    "class UserDatabase:\n",
    "    def __init__(self):\n",
    "        self.users = []\n",
    "\n",
    "    def insert(self, user):\n",
    "        i = 0\n",
    "        while i < len(self.users):\n",
    "            if self.users[i].username > user.username:\n",
    "                break\n",
    "            i += 1\n",
    "        self.users.insert(i,user)\n",
    "\n",
    "    def find(self, username):\n",
    "        \n",
    "        for user in self.users:\n",
    "            if user.username == username:\n",
    "                return print(user)\n",
    "            \n",
    "        return print(\"User {} does not exist\".format(username))\n",
    "    \n",
    "    \n",
    "    def update(self, user):\n",
    "        target = self.find(user.username)\n",
    "        target.name, target.email = user.name, user.email        \n",
    "    \n",
    "    \n",
    "    def list_all(self):\n",
    "        return self.users\n"
   ]
  },
  {
   "cell_type": "code",
   "execution_count": null,
   "metadata": {},
   "outputs": [],
   "source": [
    "database = UserDatabase()\n",
    "database2 = UserDatabase()"
   ]
  },
  {
   "cell_type": "code",
   "execution_count": null,
   "metadata": {},
   "outputs": [],
   "source": [
    "database.insert(derrick)\n",
    "database.insert(zayna)\n",
    "database.insert(denise)"
   ]
  },
  {
   "cell_type": "code",
   "execution_count": null,
   "metadata": {},
   "outputs": [],
   "source": [
    "for User in users:\n",
    "    database2.insert(User)"
   ]
  },
  {
   "cell_type": "code",
   "execution_count": null,
   "metadata": {},
   "outputs": [],
   "source": [
    "database2.list_all()"
   ]
  },
  {
   "cell_type": "code",
   "execution_count": null,
   "metadata": {},
   "outputs": [],
   "source": [
    "person = database.find(\"zayh27\")"
   ]
  },
  {
   "cell_type": "markdown",
   "metadata": {},
   "source": [
    "## <font color=lime>Binary Tree</font>"
   ]
  },
  {
   "cell_type": "code",
   "execution_count": null,
   "metadata": {},
   "outputs": [],
   "source": [
    "class TreeNode:\n",
    "    def __init__(self,key):\n",
    "        self.key = key\n",
    "        self.left = None\n",
    "        self.right = None\n",
    "\n",
    "    def __repr__(self):\n",
    "        return \"({},{},{})\".format(self.left,self.key,self.right)\n",
    "\n",
    "    def __str__(self) -> str:\n",
    "        return self.__repr__()"
   ]
  },
  {
   "cell_type": "code",
   "execution_count": null,
   "metadata": {},
   "outputs": [],
   "source": [
    "node0 = TreeNode(3)\n",
    "node1 = TreeNode(4)\n",
    "node2 = TreeNode(5)\n",
    "\n",
    "node0.left = node1\n",
    "node0.right = node2"
   ]
  },
  {
   "cell_type": "code",
   "execution_count": null,
   "metadata": {},
   "outputs": [],
   "source": [
    "def parse_tuple(data):\n",
    "    #print(data)\n",
    "    if isinstance(data,tuple) and len(data)==3:\n",
    "        node = TreeNode(data[1])\n",
    "        node.left = parse_tuple(data[0])\n",
    "        node.right = parse_tuple(data[2])\n",
    "    elif data is None:\n",
    "        node = None\n",
    "    else:\n",
    "        node = TreeNode(data)\n",
    "    return node"
   ]
  },
  {
   "cell_type": "code",
   "execution_count": null,
   "metadata": {},
   "outputs": [],
   "source": [
    "tree2 = parse_tuple(((1,3,None),2,((None,3,4),5,(6,7,8))))\n",
    "tree3 = parse_tuple((((None,4,5),7,9),10,(9,11,(8,13,None))))\n",
    "\n",
    "personTree = parse_tuple((((None,'Asit',(None,'Bill','Zayna')),'Derrick','Eddy'),'Jackie',((None,'Chris','Denise'),'Larry','Pernell')))\n",
    "\n",
    "#tree_tuple = ((1,3,None),2,((None,3,4),5,(6,7,8)))\n",
    "#tree3 = parse_tuple(tree_tuple)\n"
   ]
  },
  {
   "cell_type": "code",
   "execution_count": 3,
   "metadata": {},
   "outputs": [],
   "source": [
    "def display_keys(node,space =\"\\t\",level=0):\n",
    "    if node is None:\n",
    "        print(space * level)\n",
    "        return\n",
    "    if node.left is None and node.right is None:\n",
    "        print(space * level + str(node.key))\n",
    "        return\n",
    "\n",
    "    display_keys(node.right,space,level+1)\n",
    "    print(space * level + str(node.key))\n",
    "    display_keys(node.left,space,level+1)"
   ]
  },
  {
   "cell_type": "code",
   "execution_count": null,
   "metadata": {},
   "outputs": [],
   "source": [
    "display_keys(tree2,\"    \")"
   ]
  },
  {
   "cell_type": "markdown",
   "metadata": {},
   "source": [
    "## <font color=lime>Given a Tree return tuple using recursion</font>"
   ]
  },
  {
   "cell_type": "code",
   "execution_count": null,
   "metadata": {},
   "outputs": [],
   "source": [
    "def tree_to_tuple(node):\n",
    "    \n",
    "   if isinstance(node, TreeNode):\n",
    "      if node.left is None and node.right is None:\n",
    "         return (node.key)\n",
    "\n",
    "      if node.left is None:\n",
    "         left = None\n",
    "      else: \n",
    "         left = tree_to_tuple(node.left)\n",
    "\n",
    "      if node.right is None:\n",
    "         right = None\n",
    "      else: \n",
    "         right = tree_to_tuple(node.right)\n",
    "\n",
    "   return (left,node.key,right)      "
   ]
  },
  {
   "cell_type": "code",
   "execution_count": null,
   "metadata": {},
   "outputs": [],
   "source": [
    "def to_tuple(node):\n",
    "\n",
    "    if node is None:\n",
    "        return None\n",
    "    if node.left is None and node.right is None:\n",
    "         return (node.key)\n",
    "    return to_tuple(node.left), node.key,to_tuple(node.right)"
   ]
  },
  {
   "cell_type": "code",
   "execution_count": null,
   "metadata": {},
   "outputs": [],
   "source": [
    "#     ((1,3,None),2,((None,3,4),5,(6,7,8)))\n",
    "\n",
    "tree_to_tuple(tree2)"
   ]
  },
  {
   "cell_type": "code",
   "execution_count": null,
   "metadata": {},
   "outputs": [],
   "source": [
    "#     (((None,4,5),7,9),10,(9,11,(8,13,None)))\n",
    "\n",
    "tree_to_tuple(tree3)"
   ]
  },
  {
   "cell_type": "code",
   "execution_count": null,
   "metadata": {},
   "outputs": [],
   "source": [
    "def traverse_in_order(node):\n",
    "    if node is None:\n",
    "        return []\n",
    "    print(node.key)\n",
    "    return(traverse_in_order(node.left) + [node.key] + traverse_in_order(node.right))"
   ]
  },
  {
   "cell_type": "code",
   "execution_count": null,
   "metadata": {},
   "outputs": [],
   "source": [
    "traverse_in_order(tree3)"
   ]
  },
  {
   "cell_type": "code",
   "execution_count": 4,
   "metadata": {},
   "outputs": [],
   "source": [
    "def tree_height(node):\n",
    "    if node is None:\n",
    "        return 0\n",
    "    return 1 + max(tree_height(node.left),tree_height(node.right))"
   ]
  },
  {
   "cell_type": "code",
   "execution_count": null,
   "metadata": {},
   "outputs": [],
   "source": [
    "tree_height(tree2)"
   ]
  },
  {
   "cell_type": "code",
   "execution_count": 5,
   "metadata": {},
   "outputs": [],
   "source": [
    "def tree_size(node):\n",
    "    if node is None:\n",
    "        return 0\n",
    "    return 1 + tree_size(node.left) + tree_size(node.right)"
   ]
  },
  {
   "cell_type": "code",
   "execution_count": null,
   "metadata": {},
   "outputs": [],
   "source": [
    "tree_size(tree2)"
   ]
  },
  {
   "cell_type": "code",
   "execution_count": 7,
   "metadata": {},
   "outputs": [],
   "source": [
    "class TreeNode:\n",
    "   def __init__(self,key):\n",
    "        self.key = key\n",
    "        self.left = None\n",
    "        self.right = None\n",
    "    \n",
    "   def size(self):\n",
    "      if self is None:\n",
    "        return 0\n",
    "      return 1 + TreeNode.size(self.left) + TreeNode.size(self.right)\n",
    "      \n",
    "   def height(self):\n",
    "       if self is None:\n",
    "          return 0\n",
    "       return 1 + max(TreeNode.height(self.left),TreeNode.height(self.right))\n",
    "\n",
    "   def display_keys(self, space =\"\\t\",level=0):\n",
    "        if self is None:\n",
    "           print(space * level)\n",
    "           return\n",
    "        \n",
    "        if self.left is None and self.right is None:\n",
    "           print(space * level + str(self.key))\n",
    "           return\n",
    "\n",
    "        TreeNode.display_keys(self.right,space,level+1)\n",
    "        print(space * level + str(self.key))\n",
    "        TreeNode.display_keys(self.left,space,level+1)\n",
    "\n",
    "   def traverse_in_order(self):\n",
    "       if self is None:\n",
    "           return []\n",
    "       return(TreeNode.traverse_in_order(self.left) + [self.key] + TreeNode.traverse_in_order(self.right))\n",
    "\n",
    "   def to_tuple(self):\n",
    "      if self is None:\n",
    "        return None\n",
    "      if self.left is None and self.right is None:\n",
    "         return (self.key)\n",
    "      return TreeNode.to_tuple(self.left), self.key, TreeNode.to_tuple(self.right)\n",
    "\n",
    "   def __repr__(self):\n",
    "        return \"BinaryTree <{}>\".format(self.to_tuple())\n",
    "\n",
    "   def __str__(self) -> str:\n",
    "        \"BinaryTree <{}>\".format(self.to_tuple())\n",
    "\n",
    "   @staticmethod\n",
    "   def parse_tuple(data):\n",
    "    #print(data)\n",
    "     if data is None:\n",
    "       return None\n",
    "     elif isinstance(data,tuple) and len(data)==3:\n",
    "        node = TreeNode(data[1])\n",
    "        node.left = TreeNode.parse_tuple(data[0])\n",
    "        node.right = TreeNode.parse_tuple(data[2])\n",
    "     elif data is None:\n",
    "        node = None\n",
    "     else:\n",
    "        node = TreeNode(data)\n",
    "     return node"
   ]
  },
  {
   "cell_type": "code",
   "execution_count": null,
   "metadata": {},
   "outputs": [],
   "source": [
    "newtree1 = TreeNode.parse_tuple(((1,3,None),2,((None,3,4),5,(6,7,8))))\n",
    "\n",
    "newtree2 = TreeNode.parse_tuple((((None,4,5),7,9),10,(9,11,(8,13,None))))\n",
    "\n",
    "newPersonTree = TreeNode.parse_tuple((((None,'Asit',(None,'Bill','Zayna')),'Derrick','Eddy'),'Jackie',((None,'Chris','Denise'),'Larry','Pernell')))\n",
    "\n",
    "newPersonTree2 = TreeNode.parse_tuple((((None,'Asit','Zayna'),'Derrick',('Bill','Eddy',None)),'Jackie',((None,'Chris','Denise'),'Larry','Pernell')))\n",
    "\n",
    "newPersonTree3 = TreeNode.parse_tuple((('Asit','Bill','Denise'),'Derrick',(('Eddy','Jackie',None),'Larry',(None,'Pernell',('Quentin','Zayna',None)))))\n"
   ]
  },
  {
   "cell_type": "code",
   "execution_count": null,
   "metadata": {},
   "outputs": [],
   "source": [
    "newPersonTree3.display_keys('      ')"
   ]
  },
  {
   "cell_type": "code",
   "execution_count": 8,
   "metadata": {},
   "outputs": [],
   "source": [
    "def remove_none(nums):\n",
    "    return [x for x in nums if x is not None]\n",
    "\n",
    "def is_bst(node):\n",
    "    if node is None:\n",
    "        return True, None, None\n",
    "    is_bst_l, min_l, max_l = is_bst(node.left)\n",
    "    is_bst_r, min_r, max_r = is_bst(node.right)\n",
    "\n",
    "    is_bst_node = (is_bst_l and is_bst_r and \n",
    "                  (max_l is None or node.key > max_l) and \n",
    "                  (min_r is None or node.key < max_r))\n",
    "                \n",
    "    min_key = min(remove_none([min_l, node.key, min_r]))\n",
    "    print(\"[Left min: {} max: {}]\".format(min_l, max_l),[node.key],\"[Right min: {} max: {}]\".format(min_r, max_r),is_bst_node)\n",
    "    print(remove_none([min_l, node.key, min_r]))\n",
    "    max_key = max(remove_none([max_l, node.key, max_r]))\n",
    "    #print(node.key,min_key, max_key, is_bst_node)\n",
    "\n",
    "    return is_bst_node, min_key, max_key"
   ]
  },
  {
   "cell_type": "code",
   "execution_count": null,
   "metadata": {},
   "outputs": [],
   "source": [
    "is_bst(newPersonTree3)"
   ]
  },
  {
   "cell_type": "code",
   "execution_count": 92,
   "metadata": {},
   "outputs": [],
   "source": [
    "class BSTNode():\n",
    "    def __init__(self, key, value=None):\n",
    "        self.key = key\n",
    "        self.value = value\n",
    "        self.left = None\n",
    "        self.right = None\n",
    "        self.parent = None\n",
    "        self.root = None\n",
    "    def __repr__(self):\n",
    "        return \"({},{})\".format(self.key, self.value)\n",
    "\n",
    "    def __str__(self) -> str:\n",
    "        return self.__repr__()\n",
    "\n",
    "    def __len__(self):\n",
    "        return tree_size(self)\n",
    "    "
   ]
  },
  {
   "cell_type": "code",
   "execution_count": 34,
   "metadata": {},
   "outputs": [],
   "source": [
    "bstNodeTree = BSTNode(derrick.name, derrick)\n",
    "bstNodeTree.left = BSTNode(bill.name, bill)\n",
    "bstNodeTree.left.parent = bstNodeTree\n",
    "bstNodeTree.right = BSTNode(larry.name, larry)\n",
    "bstNodeTree.right.parent = bstNodeTree\n",
    "\n"
   ]
  },
  {
   "cell_type": "code",
   "execution_count": 107,
   "metadata": {},
   "outputs": [],
   "source": [
    "def insert(node, key, value):\n",
    "\n",
    "    if node is None:\n",
    "        node = BSTNode(key, value)\n",
    "    elif key < node.key:\n",
    "        node.left = insert(node.left ,key , value)\n",
    "        node.left.parent = node\n",
    "    elif key > node.key:\n",
    "        node.right = insert(node.right ,key , value)\n",
    "        node.right.parent = node\n",
    "    return node\n",
    "\n",
    "def find(node, key):\n",
    "    if node is None:\n",
    "        return None\n",
    "    if key == node.key:\n",
    "        return node\n",
    "    if key < node.key:\n",
    "         \n",
    "         return find(node.left, key)\n",
    "    else:\n",
    "          \n",
    "         return find(node.right,key)\n",
    "\n",
    "def update(node,key,value):\n",
    "    target = find(node,key)\n",
    "    if target is not None:\n",
    "      target.value = value\n",
    "\n",
    "def list_all_nodes(node):\n",
    "    if node is None:\n",
    "        return []\n",
    "    return list_all_nodes(node.left) + [(node.key, node.value)] + list_all_nodes(node.right)\n",
    "\n",
    "def is_balanced(node):\n",
    "    if node is None:\n",
    "        return True, 0\n",
    "    bal_l, hgt_l = is_balanced(node.left)\n",
    "    bal_r, hgt_r = is_balanced(node.right)\n",
    "\n",
    "    balanced = bal_l and bal_r and abs(hgt_l - hgt_r) <= 1\n",
    "    height = 1 + max(hgt_l,hgt_r)\n",
    "\n",
    "    return balanced, height\n",
    "\n",
    "def make_balanced_bst(data, lo=0, hi=None, parent=None):\n",
    "     if hi is None:\n",
    "         hi = len(data)-1\n",
    "     if lo > hi:\n",
    "         return None\n",
    "\n",
    "     mid = (lo + hi) // 2\n",
    "     key,value = data[mid]\n",
    "     \n",
    "     root = BSTNode(key,value)\n",
    "     root.parent = parent\n",
    "     root.left = make_balanced_bst(data, lo, mid-1, root)\n",
    "     root.right = make_balanced_bst(data, mid+1, hi, root)\n",
    "\n",
    "     return root  \n"
   ]
  },
  {
   "cell_type": "code",
   "execution_count": 12,
   "metadata": {},
   "outputs": [],
   "source": [
    "def make_unbalanced_bst(data, lo=0, hi=None, parent=None):\n",
    "     \n",
    "     if hi is None:\n",
    "         hi = len(data)-1\n",
    "     if lo > hi:\n",
    "         return None\n",
    "\n",
    "     key,value = data[lo]\n",
    "     \n",
    "     root = BSTNode(key,value)\n",
    "     root.parent = parent\n",
    "     #root.left = make_balanced_bst(data, lo, mid-1, root)\n",
    "     root.right = make_unbalanced_bst(data, lo+1, hi, root)\n",
    "\n",
    "     return root "
   ]
  },
  {
   "cell_type": "code",
   "execution_count": null,
   "metadata": {},
   "outputs": [],
   "source": [
    "#(find(bstNodeTree,'Derrick')).key\n",
    "\n",
    "is_balanced(bstNodeTree)"
   ]
  },
  {
   "cell_type": "code",
   "execution_count": 94,
   "metadata": {},
   "outputs": [],
   "source": [
    "bstAsit = BSTNode(asit.name, asit)\n",
    "bstBill = BSTNode(bill.name, bill)\n",
    "bstChris = BSTNode(chris.name, chris)\n",
    "bstDenise = BSTNode(denise.name, denise)\n",
    "bstDerrick = BSTNode(derrick.name, derrick)\n",
    "bstEddy = BSTNode(eddy.name, eddy)\n",
    "bstJackie = BSTNode(jackie.name, jackie)\n",
    "bstLarry = BSTNode(larry.name, larry)\n",
    "bstPernell = BSTNode(pernell.name, pernell)\n",
    "bstQuentin = BSTNode(quentin.name, quentin)\n",
    "bstZayna = BSTNode(zayna.name, zayna)\n",
    "\n",
    "bstUsers = [bstAsit,bstBill,bstChris,bstDenise,bstDerrick,bstEddy,bstJackie,bstLarry,bstPernell,bstQuentin,bstZayna]\n",
    "\n",
    "\n",
    "data = [(user.key, user) for user in bstUsers]\n"
   ]
  },
  {
   "cell_type": "code",
   "execution_count": null,
   "metadata": {},
   "outputs": [],
   "source": [
    "(bstDerrick.key, bstDerrick.value)"
   ]
  },
  {
   "cell_type": "code",
   "execution_count": 96,
   "metadata": {},
   "outputs": [],
   "source": [
    "unbalancedtree = make_unbalanced_bst(data)"
   ]
  },
  {
   "cell_type": "code",
   "execution_count": 38,
   "metadata": {},
   "outputs": [],
   "source": [
    "balancedtree = make_balanced_bst(data)"
   ]
  },
  {
   "cell_type": "code",
   "execution_count": null,
   "metadata": {},
   "outputs": [],
   "source": [
    "#display_keys(unbalancedtree,'     ')\n",
    "display_keys(unbalancedtree,'     ')"
   ]
  },
  {
   "cell_type": "code",
   "execution_count": null,
   "metadata": {},
   "outputs": [],
   "source": [
    "(find(balancedtree,'Derrick')).value"
   ]
  },
  {
   "cell_type": "code",
   "execution_count": 40,
   "metadata": {},
   "outputs": [],
   "source": [
    "def balance_bst(node):\n",
    "    return make_balanced_bst(list_all_nodes(node))"
   ]
  },
  {
   "cell_type": "code",
   "execution_count": 25,
   "metadata": {},
   "outputs": [],
   "source": [
    "balanced_from_unbalanced = balance_bst(unbalancedtree)\n",
    "\n"
   ]
  },
  {
   "cell_type": "code",
   "execution_count": null,
   "metadata": {},
   "outputs": [],
   "source": [
    "display_keys(balanced_from_unbalanced,'        ')\n",
    "\n",
    "#is_balanced(balanced_from_unbalanced)"
   ]
  },
  {
   "cell_type": "code",
   "execution_count": 109,
   "metadata": {},
   "outputs": [],
   "source": [
    "class TreeMap():\n",
    "\n",
    "    def __init__(self):\n",
    "        self.root = None\n",
    "\n",
    "    def __setitem__(self, key, value):\n",
    "        node = find(self.root, key)\n",
    "        if not node:\n",
    "            self.root = insert(self.root, key, value)\n",
    "            self.root = balance_bst(self.root)\n",
    "        else:\n",
    "            update(self.root, key, value)\n",
    "\n",
    "    def __getitem__(self,key):\n",
    "        node = find(self.root, key)\n",
    "        return node.value if node else None\n",
    "\n",
    "    def __iter__(self):\n",
    "        return (x for x in list_all_nodes(self.root))\n",
    "\n",
    "    def __len__(self):\n",
    "        return tree_size(self.root)\n",
    "    \n",
    "    def display(self):\n",
    "        return display_keys(self.root,'    ')"
   ]
  },
  {
   "cell_type": "code",
   "execution_count": 110,
   "metadata": {},
   "outputs": [],
   "source": [
    "tree = None\n",
    "tree = TreeMap()"
   ]
  },
  {
   "cell_type": "code",
   "execution_count": null,
   "metadata": {},
   "outputs": [],
   "source": [
    "print(tree.display())\n",
    "print(tree.root)\n"
   ]
  },
  {
   "cell_type": "code",
   "execution_count": 112,
   "metadata": {},
   "outputs": [],
   "source": [
    "tree['Asit'] = bstAsit\n",
    "tree['Jackie'] = bstJackie\n",
    "tree['Larry'] = bstLarry"
   ]
  },
  {
   "cell_type": "code",
   "execution_count": null,
   "metadata": {},
   "outputs": [],
   "source": [
    "tree[\"Jackie\"]"
   ]
  }
 ],
 "metadata": {
  "interpreter": {
   "hash": "fc83aee89678d9b71393865b73fef42c64e33515d7ab78ef977dcb1be64f829a"
  },
  "kernelspec": {
   "display_name": "Python 3.9.7 64-bit ('mfpp': venv)",
   "name": "python3"
  },
  "language_info": {
   "codemirror_mode": {
    "name": "ipython",
    "version": 3
   },
   "file_extension": ".py",
   "mimetype": "text/x-python",
   "name": "python",
   "nbconvert_exporter": "python",
   "pygments_lexer": "ipython3",
   "version": "3.9.7"
  },
  "orig_nbformat": 4
 },
 "nbformat": 4,
 "nbformat_minor": 2
}
