{
 "cells": [
  {
   "cell_type": "code",
   "execution_count": 1,
   "metadata": {},
   "outputs": [],
   "source": [
    "# Creates a class named human that takes input from user\n",
    "\n",
    "class human:\n",
    "    name = None\n",
    "    age = None\n",
    "    def get_name(self):\n",
    "        print(\"Enter your name\")\n",
    "        self.name = input()\n",
    "    def get_age(self):\n",
    "        print(\"Enter your age\")\n",
    "        self.age = input()\n",
    "    def put_name(self):\n",
    "        print(f\"Your name is {self.name}\")\n",
    "    def put_age(self):\n",
    "        print(f\"Your age is {self.age}\")"
   ]
  },
  {
   "cell_type": "code",
   "execution_count": null,
   "metadata": {},
   "outputs": [],
   "source": [
    "# Uses the human class to create person 1\n",
    "person1 = human()\n",
    "person1.get_name()\n",
    "person1.get_age()\n",
    "person1.put_name() \n",
    "person1.put_age()"
   ]
  },
  {
   "cell_type": "code",
   "execution_count": 9,
   "metadata": {},
   "outputs": [],
   "source": [
    "# Creates student class using init to take in parameters\n",
    "class student:\n",
    "    def __init__(self, name, age, branch):\n",
    "        self.name = name\n",
    "        self.age = age\n",
    "        self.branch = branch\n",
    "    def print_student(self):\n",
    "        #print(\"Name\" , self.name)\n",
    "        print(f\"Name: {self.name}\", end=' ---> ')\n",
    "        #print(\"Age\", self.age)\n",
    "        print(f\"Age: {self.age}\")\n",
    "        #print(\"Course \", self.branch)\n",
    "        print(f\"Course: {self.branch}\")"
   ]
  },
  {
   "cell_type": "code",
   "execution_count": 10,
   "metadata": {},
   "outputs": [
    {
     "name": "stdout",
     "output_type": "stream",
     "text": [
      "Name: Derrick ---> Age: 55\n",
      "Course: Engineering\n",
      "Derrick\n"
     ]
    }
   ],
   "source": [
    "student1 = student(\"Derrick\", 35 ,\"Programming\")\n",
    "student1.print_student()\n",
    "n = student1.name\n",
    "print(n)"
   ]
  },
  {
   "cell_type": "code",
   "execution_count": 3,
   "metadata": {},
   "outputs": [],
   "source": [
    "# Creates a class that inherits from another using the super() function\n",
    "class fruit:\n",
    "    def __init__(self):\n",
    "        self.fruitname = \"Apples\"\n",
    "        print(\"I am a fruit\")\n",
    "\n",
    "class citrus(fruit):\n",
    "    def __init__(self):\n",
    "        self.citrusname = \"Mango\"\n",
    "        super().__init__()\n",
    "        print(\"I am citrus\")"
   ]
  },
  {
   "cell_type": "code",
   "execution_count": null,
   "metadata": {},
   "outputs": [],
   "source": [
    "lemon = citrus()\n",
    "#print(lemon.fruitname)\n",
    "#print(lemon.citrusname)"
   ]
  },
  {
   "cell_type": "code",
   "execution_count": 9,
   "metadata": {},
   "outputs": [
    {
     "name": "stdout",
     "output_type": "stream",
     "text": [
      "B init called\n",
      "A init called\n"
     ]
    }
   ],
   "source": [
    "# Python program to\n",
    "# demonstrate init with\n",
    "# inheritance\n",
    "\n",
    "class A(object):\n",
    "\tdef __init__(self, something):\n",
    "\t\tprint(\"A init called\")\n",
    "\t\tself.something = something\n",
    "\t\t\n",
    "class B(A):\n",
    "\tdef __init__(self, something):\n",
    "        # Calling init of parent class\n",
    "\t\t# A.__init__(self, something)\n",
    "\t\t# print(\"B init called\")\n",
    "        \n",
    "        # Calling init of parent class (A) second\n",
    "            print(\"B init called\")\n",
    "            A.__init__(self, something)\n",
    "\n",
    "\n",
    "            self.something = something\n",
    "        \n",
    "\t\t\n",
    "objB = B(\"anything\")\n"
   ]
  }
 ],
 "metadata": {
  "interpreter": {
   "hash": "fc83aee89678d9b71393865b73fef42c64e33515d7ab78ef977dcb1be64f829a"
  },
  "kernelspec": {
   "display_name": "Python 3.9.7 64-bit ('mfpp': venv)",
   "name": "python3"
  },
  "language_info": {
   "codemirror_mode": {
    "name": "ipython",
    "version": 3
   },
   "file_extension": ".py",
   "mimetype": "text/x-python",
   "name": "python",
   "nbconvert_exporter": "python",
   "pygments_lexer": "ipython3",
   "version": "3.9.7"
  },
  "orig_nbformat": 4
 },
 "nbformat": 4,
 "nbformat_minor": 2
}
