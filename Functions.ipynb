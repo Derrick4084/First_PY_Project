{
 "cells": [
  {
   "cell_type": "code",
   "execution_count": null,
   "metadata": {},
   "outputs": [],
   "source": [
    "# When you don't know the number of arguments (*)\n",
    "def myfun(*argv):\n",
    "    for arg in argv:\n",
    "        print(arg)\n",
    "\n",
    "myfun(\"Derrick\",\"Zayna\",\"Denise\",\"Pernell\")"
   ]
  },
  {
   "cell_type": "code",
   "execution_count": null,
   "metadata": {},
   "outputs": [],
   "source": [
    "def myfun2(arg1, *argv):\n",
    "    print(f\"This is arg1: {arg1}\")\n",
    "    for arg in argv:\n",
    "        print(f\"Next *argv is: {arg}\")\n",
    "\n",
    "myfun2(\"Derrick\",\"Zayna\",\"Denise\",\"Pernell\")"
   ]
  },
  {
   "cell_type": "code",
   "execution_count": null,
   "metadata": {},
   "outputs": [],
   "source": [
    "# When you don't know the number keyword args - (**) \n",
    "# kwargs are key-value  list, tuples, dictionaries \n",
    "def mykeyargs(**kwargs):\n",
    "        for key, value in kwargs.items():\n",
    "        #print(\"%s == %s\" %(key, value))\n",
    "         print(\"%s\" %(value))\n",
    "         #print(f\"{value}\")\n",
    "\n",
    "mykeyargs(one=\"Derrick\", two=\"Zayna\",three=\"Denise\",four=\"Pernell\")"
   ]
  },
  {
   "cell_type": "code",
   "execution_count": 7,
   "metadata": {},
   "outputs": [
    {
     "name": "stdout",
     "output_type": "stream",
     "text": [
      "arg1 = Derrick\n",
      "arg2 = Zayna\n",
      "arg3 = Denise\n",
      "arg4 = Pernell\n",
      "arg1 = Derrick\n",
      "arg2 = Zayna\n",
      "arg3 = Denise\n",
      "arg4 = Pernell\n"
     ]
    }
   ],
   "source": [
    "def args_kwargs(arg1,arg2,arg3,arg4):\n",
    "    print(f\"arg1 = {arg1}\")\n",
    "    print(f\"arg2 = {arg2}\")\n",
    "    print(f\"arg3 = {arg3}\")\n",
    "    print(f\"arg4 = {arg4}\")\n",
    "\n",
    "myargs = (\"Derrick\",\"Zayna\",\"Denise\",\"Pernell\")\n",
    "args_kwargs(*myargs)\n",
    "\n",
    "mykwargs = {\"arg1\":\"Derrick\", \"arg2\":\"Zayna\",\"arg3\":\"Denise\",\"arg4\":\"Pernell\"}\n",
    "args_kwargs(**mykwargs)"
   ]
  },
  {
   "cell_type": "code",
   "execution_count": null,
   "metadata": {},
   "outputs": [],
   "source": [
    "def args_kwargs2(*args,**kwargs):\n",
    "    print(\"args: \", args)\n",
    "    print(\"kwargs: \", kwargs)\n",
    "# Now we can use both *args ,**kwargs\n",
    "# to pass arguments to this function :\n",
    "args_kwargs2(\"Derrick\",\"Zayna\",\"Denise\",\"Pernell\", one=\"Derrick\", two=\"Zayna\",three=\"Denise\",four=\"Pernell\")"
   ]
  },
  {
   "cell_type": "code",
   "execution_count": null,
   "metadata": {},
   "outputs": [],
   "source": [
    "def args_kwargs2(*args,**kwargs):\n",
    "    for arg in args: \n",
    "     print(f\"From args: {arg}\")\n",
    "    for key, value in kwargs.items():\n",
    "     #print(f\"From kwargs: {value}\")\n",
    "     print(\"From kwargs: %s %s\" %(key,value))\n",
    " \n",
    "args_kwargs2(\"Derrick\",\"Zayna\",\"Denise\",\"Pernell\", one=\"Derrick\", two=\"Zayna\",three=\"Denise\",four=\"Pernell\")"
   ]
  },
  {
   "cell_type": "code",
   "execution_count": 8,
   "metadata": {},
   "outputs": [
    {
     "name": "stdout",
     "output_type": "stream",
     "text": [
      "60\n"
     ]
    }
   ],
   "source": [
    "x = lambda a,b,c:(a+b+c)*10\n",
    "print(x(1,2,3))"
   ]
  },
  {
   "cell_type": "code",
   "execution_count": null,
   "metadata": {},
   "outputs": [],
   "source": [
    "def myFunction(int):\n",
    "    return lambda a:a*int\n",
    "\n",
    "mydoubler = myFunction(2)\n",
    "mytripler = myFunction(3)\n",
    "\n",
    "print(mydoubler(12))\n",
    "\n",
    "print(mytripler(3))"
   ]
  },
  {
   "cell_type": "code",
   "execution_count": null,
   "metadata": {},
   "outputs": [],
   "source": [
    "import pandas as pd \n",
    "\n",
    "print(dir(pd))"
   ]
  },
  {
   "cell_type": "markdown",
   "metadata": {},
   "source": [
    "### <font color=lime>Iterators</font>"
   ]
  },
  {
   "cell_type": "code",
   "execution_count": null,
   "metadata": {},
   "outputs": [],
   "source": [
    "#iterator from a tuple has a __iter__ and __next__ function\n",
    "mytuple = (\"apple\", \"banana\", \"cherry\")\n",
    "myit = iter(mytuple)\n",
    "\n",
    "print(next(myit))\n",
    "print(next(myit))\n",
    "print(next(myit))\n",
    "print(next(myit))\n",
    "\n",
    "# Error if more next statements then values in tuple\n"
   ]
  },
  {
   "cell_type": "code",
   "execution_count": null,
   "metadata": {},
   "outputs": [],
   "source": [
    "# iterate through a string\n",
    "myname = \"Derrick\"\n",
    "myiter = iter(myname)\n",
    "print(next(myiter),next(myiter),next(myiter))\n",
    "print(next(myiter))\n",
    "print(next(myiter))\n",
    "print(next(myiter))\n",
    "print(next(myiter))\n"
   ]
  },
  {
   "cell_type": "code",
   "execution_count": null,
   "metadata": {},
   "outputs": [],
   "source": [
    "#skips values in tuple\n",
    "a, *_, b, c = (7, 6, 5, 4, 3, 2, 1)\n",
    "print(a, b, c)\n",
    "\n",
    "for _ in range(5):\n",
    "    print(_)"
   ]
  },
  {
   "cell_type": "code",
   "execution_count": null,
   "metadata": {},
   "outputs": [],
   "source": [
    "# putting an iterator in your class\n",
    "class MyNumbers:\n",
    "    def __iter__(self):\n",
    "        self.a = 1\n",
    "        return self\n",
    "    def __next__(self):\n",
    "        x = self.a\n",
    "        self.a = self.a + 1\n",
    "        return x\n",
    "\n",
    "class_ = MyNumbers()\n",
    "myiter = iter(class_)\n",
    "\n",
    "for _ in range(10):\n",
    "  print(next(myiter))\n",
    "\n",
    "#print(next(myiter))\n",
    "#print(next(myiter))\n"
   ]
  },
  {
   "cell_type": "code",
   "execution_count": null,
   "metadata": {},
   "outputs": [],
   "source": [
    "class MyNumbers2:\n",
    "    def __iter__(self):\n",
    "        self.a = 1\n",
    "        return self\n",
    "    def __next__(self):\n",
    "        if self.a <= 20:\n",
    "          x = self.a\n",
    "          self.a = self.a + 1\n",
    "          return x\n",
    "        else:\n",
    "          raise StopIteration\n",
    "    \n",
    "\n",
    "number = MyNumbers2()\n",
    "myiter2 = iter(number)\n",
    "\n",
    "for x in myiter2:\n",
    "    print(x)"
   ]
  }
 ],
 "metadata": {
  "interpreter": {
   "hash": "fc83aee89678d9b71393865b73fef42c64e33515d7ab78ef977dcb1be64f829a"
  },
  "kernelspec": {
   "display_name": "Python 3.9.7 64-bit ('mfpp': venv)",
   "name": "python3"
  },
  "language_info": {
   "codemirror_mode": {
    "name": "ipython",
    "version": 3
   },
   "file_extension": ".py",
   "mimetype": "text/x-python",
   "name": "python",
   "nbconvert_exporter": "python",
   "pygments_lexer": "ipython3",
   "version": "3.9.7"
  },
  "orig_nbformat": 4
 },
 "nbformat": 4,
 "nbformat_minor": 2
}
