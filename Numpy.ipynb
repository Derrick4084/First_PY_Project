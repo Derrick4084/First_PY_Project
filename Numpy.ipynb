{
 "cells": [
  {
   "cell_type": "code",
   "execution_count": 2,
   "metadata": {},
   "outputs": [],
   "source": [
    "import numpy as np\n",
    "import sys"
   ]
  },
  {
   "cell_type": "code",
   "execution_count": null,
   "metadata": {},
   "outputs": [],
   "source": [
    "\n",
    "a = np.array([1,2,3,4,5,6])\n",
    "b = np.array((10,11,12,13,15,16))\n",
    "c = np.array({1:\"A\",2:\"B\",3:\"C\"})\n",
    "\n",
    "#myiter = iter(a)\n",
    "#print(next(myiter))\n",
    "#print(next(myiter))\n",
    "print(c.ndim)\n",
    "print(a)\n",
    "print(b)\n",
    "print(c)"
   ]
  },
  {
   "cell_type": "code",
   "execution_count": null,
   "metadata": {},
   "outputs": [],
   "source": [
    "d = np.arange(10,20,2)  # 10 to 20 by 2\n",
    "print(d)"
   ]
  },
  {
   "cell_type": "code",
   "execution_count": null,
   "metadata": {},
   "outputs": [],
   "source": [
    "f = np.array(([1,2,3,4,5,6],[7,8,9,10,11,12]))\n",
    "#f.shape = (3,4)\n",
    "print(f.shape)\n",
    "print(f.shape[1])\n",
    "print(f)\n",
    "print(f.ndim)\n",
    "print(f.dtype)"
   ]
  },
  {
   "cell_type": "code",
   "execution_count": null,
   "metadata": {},
   "outputs": [],
   "source": [
    "aa = np.array(([2,4,6]))\n",
    "bb = np.array(([8,10,12]))\n",
    "print(aa)\n",
    "print(bb)\n",
    "print(np.subtract(aa,bb))\n",
    "print(np.sum(aa))\n",
    "print(np.sum(bb))\n",
    "print(np.sum([aa,bb]))\n",
    "print(np.sum([aa,bb], axis=0))\n",
    "print(np.sum([aa,bb], axis=1))\n",
    "#print(np.divide(aa,bb))\n",
    "#print(np.divide(bb,aa))"
   ]
  },
  {
   "cell_type": "code",
   "execution_count": null,
   "metadata": {},
   "outputs": [],
   "source": [
    "#l = range(100)\n",
    "q = range(100)\n",
    "print(q)\n",
    "print(type(q))\n",
    "print([q[12]])\n",
    "print(sys.getsizeof(q))\n",
    "print(len(q))\n",
    "print(sys.getsizeof(q) * len(q))"
   ]
  },
  {
   "cell_type": "code",
   "execution_count": null,
   "metadata": {},
   "outputs": [],
   "source": [
    "z = list(enumerate(range(5)))\n",
    "z"
   ]
  },
  {
   "cell_type": "code",
   "execution_count": null,
   "metadata": {},
   "outputs": [],
   "source": [
    "o = np.arange(100)\n",
    "#print(o)\n",
    "print(o[34])\n",
    "print(o.size)\n",
    "print(len(o))\n",
    "print(o.itemsize)\n",
    "print(type(o))\n",
    "o"
   ]
  },
  {
   "cell_type": "code",
   "execution_count": null,
   "metadata": {},
   "outputs": [],
   "source": [
    "import time\n",
    "\n",
    "def using_List():\n",
    "    t1 = time.time()\n",
    "    x = range(100000)\n",
    "    y = range(100000)\n",
    "    for i in range(len(x)):\n",
    "        z = x[i] + y[i]\n",
    "\n",
    "    #z = [x[i] + y[i] for i in range(len(x))]\n",
    "    return time.time() -t1 \n",
    "\n",
    "def using_Array():\n",
    "    t1 = time.time()\n",
    "    x = np.arange(100000)\n",
    "    y = np.arange(100000)\n",
    "    z = x+y\n",
    "    return time.time() -t1 \n",
    "\n",
    "list_time = using_List()\n",
    "array_time = using_Array()\n",
    "\n",
    "print(list_time)\n",
    "print(array_time)\n",
    "print(\"Numpy Array is \" + str(list_time/array_time) + \" % faster than List\")"
   ]
  },
  {
   "cell_type": "code",
   "execution_count": null,
   "metadata": {},
   "outputs": [],
   "source": [
    "a = np.array([[1,2,3],[4,5,6]])\n",
    "b = np.array([[7,8,9],[10,11,12]])\n",
    "print(\"a array -----\")\n",
    "print([a])\n",
    "print(\"b array -----\")\n",
    "print([b])\n",
    "#print(np.concatenate([a,b])) \n",
    "print([np.concatenate([a,b],axis=0)]) #same as the above\n",
    "print([np.concatenate([a,b],axis=1)])"
   ]
  },
  {
   "cell_type": "code",
   "execution_count": null,
   "metadata": {},
   "outputs": [],
   "source": [
    "#a = np.array([1,2,3])\n",
    "#b = np.array([7,8,9])\n",
    "c = np.array([[1,2,3],[4,5,6]])\n",
    "d = np.array([[7,8,9],[10,11,12]])\n",
    "#print(\"Stack with axis 0 ----\")\n",
    "#print(np.stack((c,d),axis=0))\n",
    "\n",
    "print(\"Stack with axis 1 ----\")\n",
    "print([np.stack((c,d),axis=1)])\n",
    "\n",
    "print(\"Horizontal Stack ---- hstack\")\n",
    "print([np.hstack([c,d])])\n",
    "\n",
    "print(\"Vertical Stack ---- vstack\")\n",
    "print([np.vstack([c,d])])\n",
    "\n",
    "print(\"Concat on axis 0 ---- looks like Vertical stack\")\n",
    "print([np.concatenate([c,d],axis=0)])\n",
    "\n",
    "print(\"Concat on axis 1 ---- looks like Horizontal stack\")\n",
    "print([np.concatenate([c,d],axis=1)])\n",
    "\n",
    "print(\"Column Stack --- looks like Horizontal stack and Vertical Concat\")\n",
    "print([np.column_stack([c,d])])\n"
   ]
  },
  {
   "cell_type": "code",
   "execution_count": 18,
   "metadata": {},
   "outputs": [
    {
     "name": "stdout",
     "output_type": "stream",
     "text": [
      "[array([[1, 2, 3],\n",
      "       [4, 5, 6]])]\n",
      "[array([[1, 2, 3]]), array([[4, 5, 6]])]\n",
      "[array([[1],\n",
      "       [4]]), array([[2],\n",
      "       [5]]), array([[3],\n",
      "       [6]])]\n",
      "[array([[1, 2, 3]]), array([[4, 5, 6]]), array([], shape=(0, 3), dtype=int32)]\n"
     ]
    }
   ],
   "source": [
    "print([c])\n",
    "print(np.split(c,2,axis=0))\n",
    "print(np.split(c,3,axis=1))\n",
    "print(np.split(c,[1,2],axis=0))"
   ]
  },
  {
   "cell_type": "code",
   "execution_count": null,
   "metadata": {},
   "outputs": [],
   "source": [
    "np.random.seed(2)  # seed for reproducibility\n"
   ]
  },
  {
   "cell_type": "code",
   "execution_count": null,
   "metadata": {},
   "outputs": [],
   "source": [
    "pp = np.random.randint(6,size=6)\n",
    "print(pp)"
   ]
  },
  {
   "cell_type": "code",
   "execution_count": null,
   "metadata": {},
   "outputs": [],
   "source": [
    "\n",
    "x1 = np.random.randint(10, size=6)  # One-dimensional array\n",
    "x2 = np.random.randint(10, size=(3, 4))  # Two-dimensional array\n",
    "x3 = np.random.randint(10, size=(3, 4, 5))  # Three-dimensional array\n"
   ]
  },
  {
   "cell_type": "code",
   "execution_count": null,
   "metadata": {},
   "outputs": [],
   "source": [
    "\n",
    "print(\"x3 ndim: \", x3.ndim)\n",
    "print(\"x3 shape:\", x3.shape)\n",
    "print(\"x3 size: \", x3.size)\n",
    "print([x3])\n",
    "print(x3[1,2,3]) #Dimension 1 Row 2 Column 3\n",
    "print(x3[1,2])\n",
    "print(x3[1])\n"
   ]
  },
  {
   "cell_type": "code",
   "execution_count": null,
   "metadata": {},
   "outputs": [],
   "source": [
    "print(\"x3 ndim: \", x3.ndim)\n",
    "print(\"x3 shape:\", x3.shape)\n",
    "print(\"x3 size: \", x3.size)\n",
    "print([x3])\n",
    "print([x3[1:3]]) \n",
    "\n"
   ]
  },
  {
   "cell_type": "code",
   "execution_count": null,
   "metadata": {},
   "outputs": [],
   "source": [
    "x = np.array([12,43,2,100,54,5,68])\n",
    "print(\"Unsorted array: \", x)\n",
    "orderbyindex = np.argsort(x)\n",
    "print(\"Sorted Index of Array: \", orderbyindex)\n",
    "print(\"Actual sorted numbers ascending: \", x[orderbyindex])"
   ]
  },
  {
   "cell_type": "code",
   "execution_count": null,
   "metadata": {},
   "outputs": [],
   "source": [
    "# Gets the 2 highest numbers in a numpy array\n",
    "y = np.array([12,43,2,100,54,5,68])\n",
    "y\n",
    "print(np.argsort(y))  # returns the index of the sorted ascending values\n",
    "print(np.argsort(y)[-2:])  #returns the last 2 indexes which are the 2 highest numbers\n",
    "print(np.argsort(y)[-2:][::-1]) # orders 2 highest descending\n",
    "y[np.argsort(y)[-2:][::-1]]\n",
    "y[np.argsort(y)][::-1]"
   ]
  }
 ],
 "metadata": {
  "interpreter": {
   "hash": "fc83aee89678d9b71393865b73fef42c64e33515d7ab78ef977dcb1be64f829a"
  },
  "kernelspec": {
   "display_name": "Python 3.9.7 64-bit ('mfpp': venv)",
   "name": "python3"
  },
  "language_info": {
   "codemirror_mode": {
    "name": "ipython",
    "version": 3
   },
   "file_extension": ".py",
   "mimetype": "text/x-python",
   "name": "python",
   "nbconvert_exporter": "python",
   "pygments_lexer": "ipython3",
   "version": "3.9.7"
  },
  "orig_nbformat": 4
 },
 "nbformat": 4,
 "nbformat_minor": 2
}
